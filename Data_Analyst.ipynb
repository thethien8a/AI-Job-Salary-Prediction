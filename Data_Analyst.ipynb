{
 "cells": [
  {
   "cell_type": "markdown",
   "id": "9d235677",
   "metadata": {},
   "source": [
    "# Dự án: Phân tích dữ liệu tuyển dụng"
   ]
  },
  {
   "cell_type": "markdown",
   "id": "161ea989",
   "metadata": {},
   "source": [
    "## Import các thư viện"
   ]
  },
  {
   "cell_type": "code",
   "execution_count": null,
   "id": "8a20dc1f",
   "metadata": {},
   "outputs": [],
   "source": [
    "import pandas as pd\n",
    "import seaborn as sns\n",
    "import numpy as np\n",
    "import matplotlib.pyplot as plt\n",
    "# import kagglehub\n",
    "import math\n",
    "from ipywidgets import interact\n",
    "import warnings\n",
    "import ipywidgets as widgets\n",
    "from IPython.display import display\n",
    "import plotly.express as px\n",
    "warnings.filterwarnings('ignore')"
   ]
  },
  {
   "cell_type": "markdown",
   "id": "0c0acc60",
   "metadata": {},
   "source": [
    "## Đọc dữ liệu"
   ]
  },
  {
   "cell_type": "code",
   "execution_count": null,
   "id": "e49cc1e8",
   "metadata": {},
   "outputs": [],
   "source": [
    "# Hiện tại đang bị lỗi\n",
    "\n",
    "# # Download latest version\n",
    "# path = kagglehub.dataset_download(\"bismasajjad/global-ai-job-market-and-salary-trends-2025\")\n",
    "\n",
    "# print(\"Path to dataset files:\", path)\n",
    "# df = pd.read_csv(path + '\\\\ai_job_dataset.csv')\n",
    "\n",
    "df = pd.read_csv('ai_job_dataset1.csv')"
   ]
  },
  {
   "cell_type": "markdown",
   "id": "d51e3ed1",
   "metadata": {},
   "source": [
    "## Xem qua dữ liệu"
   ]
  },
  {
   "cell_type": "code",
   "execution_count": null,
   "id": "bc271fa7",
   "metadata": {},
   "outputs": [],
   "source": [
    "df.head()"
   ]
  },
  {
   "cell_type": "code",
   "execution_count": null,
   "id": "e76437f0",
   "metadata": {},
   "outputs": [],
   "source": [
    "df[\"employee_residence\"].unique()"
   ]
  },
  {
   "cell_type": "code",
   "execution_count": null,
   "id": "4bf71073",
   "metadata": {},
   "outputs": [],
   "source": [
    "df[\"job_title\"].unique()"
   ]
  },
  {
   "cell_type": "code",
   "execution_count": null,
   "id": "9850d4b2",
   "metadata": {},
   "outputs": [],
   "source": [
    "df[\"company_location\"].unique()"
   ]
  },
  {
   "cell_type": "code",
   "execution_count": null,
   "id": "a27c9dc6",
   "metadata": {},
   "outputs": [],
   "source": [
    "df[\"industry\"].unique()"
   ]
  },
  {
   "cell_type": "markdown",
   "id": "3e28040a",
   "metadata": {},
   "source": [
    "### **Mô tả các cột trong bộ dữ liệu**\n",
    "\n",
    "| Tên Cột (Column Name) | Mô tả Tiếng Việt (Vietnamese Description) | Kiểu dữ liệu (Data Type) |\n",
    "| :--- | :--- | :--- |\n",
    "| `job_id` | Mã định danh duy nhất cho mỗi tin tuyển dụng. | String |\n",
    "| `job_title` | Chức danh công việc đã được chuẩn hóa. | String |\n",
    "| `salary_usd` | Mức lương hàng năm tính bằng USD. | Integer |\n",
    "| `salary_currency` | Đơn vị tiền tệ của mức lương gốc. | String |\n",
    "| `experience_level` | Cấp độ kinh nghiệm: EN (Mới vào nghề), MI (Trung cấp), SE (Cao cấp), EX (Chuyên gia/Điều hành). | String |\n",
    "| `employment_type` | Loại hình công việc: FT (Toàn thời gian), PT (Bán thời gian), CT (Hợp đồng), FL (Làm tự do). | String |\n",
    "| `company_location` | Quốc gia nơi công ty đặt trụ sở. | String |\n",
    "| `company_size` | Quy mô công ty: S (Nhỏ <50), M (Vừa 50-250), L (Lớn >250). | String |\n",
    "| `employee_residence` | Quốc gia nơi nhân viên cư trú. | String |\n",
    "| `remote_ratio` | Tỷ lệ làm việc từ xa: 0 (Không làm từ xa), 50 (Kết hợp/Hybrid), 100 (Làm từ xa hoàn toàn). | Integer |\n",
    "| `required_skills` | 5 kỹ năng hàng đầu được yêu cầu (phân tách bằng dấu phẩy). | String |\n",
    "| `education_required` | Yêu cầu học vấn tối thiểu. | String |\n",
    "| `years_experience` | Số năm kinh nghiệm yêu cầu. | Integer |\n",
    "| `industry` | Lĩnh vực/ngành nghề của công ty. | String |\n",
    "| `posting_date` | Ngày đăng tin tuyển dụng. | Date |\n",
    "| `application_deadline`| Hạn chót nộp hồ sơ. | Date |\n",
    "| `job_description_length` | Độ dài của mô tả công việc (số lượng ký tự). | Integer |\n",
    "| `benefits_score` | Điểm số đánh giá các gói phúc lợi (từ 1-10). | Float |"
   ]
  },
  {
   "cell_type": "code",
   "execution_count": null,
   "id": "df96472f",
   "metadata": {},
   "outputs": [],
   "source": [
    "df.info()"
   ]
  },
  {
   "cell_type": "markdown",
   "id": "da481725",
   "metadata": {},
   "source": [
    "**Nhận xét**: Có vẻ như không tồn tại dòng nào thiếu và dữ liệu nhiều ở dạng string"
   ]
  },
  {
   "cell_type": "code",
   "execution_count": null,
   "id": "014a28d4",
   "metadata": {},
   "outputs": [],
   "source": [
    "df.describe()"
   ]
  },
  {
   "cell_type": "markdown",
   "id": "76432e01",
   "metadata": {},
   "source": [
    "**Một vài điều hay ho khi nhìn trung ở thị trường như sau**:  \n",
    "1. Có tồn tại một vài TH đặc biệt có mức lương cao ~400k $ một năm, quy ra tiền việt là khoảng 10 tỷ một năm.\n",
    "2. Bám sát vào mức lương trung vị (do cột salary tồn tại các ngoại lệ), ta thấy median rơi vào khoảng 150k $ một năm. So sánh với mức lương trung bình hàng năm tại Mỹ năm 2024 dao động khoảng 59.228 USD đến 63.171 USD thì ta thấy con số trên là khá ấn tượng, cho thấy sức nóng của các nghành nghề trên \n",
    "3. Trung bình các công ty thường tuyển dụng các vị trí có số năm kinh nghiệm rơi vào khoảng 5+ trở lên\n",
    "3. Không có công ty nào là không có phúc lợi (benefit_score=0 vì min của cột này bằng 5). Cho thấy sự quan tâm của các doanh nghiệp đến người lao động. Trong một số trường hợp và vị trí, phúc lợi có thể lên đến max 10 (cao nhất)  \n",
    "\n",
    "**Về mặt dữ liệu**: Không nhìn thấy các giá trị nào bất hợp lý trong range của các giá trị số"
   ]
  },
  {
   "cell_type": "markdown",
   "id": "294cf1cd",
   "metadata": {},
   "source": [
    "# Data Analyst Role"
   ]
  },
  {
   "cell_type": "markdown",
   "id": "861f01ea",
   "metadata": {},
   "source": [
    "### Kiểm tra và làm sạch dữ liệu"
   ]
  },
  {
   "cell_type": "markdown",
   "id": "8944faea",
   "metadata": {},
   "source": [
    "1. Chuyển đổi kiểu dữ liệu của các cột ngày tháng năm"
   ]
  },
  {
   "cell_type": "code",
   "execution_count": null,
   "id": "d5b5ac7f",
   "metadata": {},
   "outputs": [],
   "source": [
    "# Đổi kiểu dữ liệu datetime cho posting_date, application_date\n",
    "df['posting_date'] = pd.to_datetime(df['posting_date'])\n",
    "df['application_deadline'] = pd.to_datetime(df['application_deadline'])"
   ]
  },
  {
   "cell_type": "markdown",
   "id": "291d016c",
   "metadata": {},
   "source": [
    "2. Xóa trùng"
   ]
  },
  {
   "cell_type": "code",
   "execution_count": null,
   "id": "ca74de37",
   "metadata": {},
   "outputs": [],
   "source": [
    "df.drop_duplicates(inplace=True)"
   ]
  },
  {
   "cell_type": "markdown",
   "id": "bae663b4",
   "metadata": {},
   "source": [
    "Tuy nhiên xóa trùng như này chưa đảm bảo lọc được trùng hoàn toàn. Theo tôi, ta cần xóa trùng dựa vào 1 vài thông tin như dưới"
   ]
  },
  {
   "cell_type": "code",
   "execution_count": null,
   "id": "78bc84f9",
   "metadata": {},
   "outputs": [],
   "source": [
    "subset_col = ['company_name', 'job_title', 'company_location', 'employment_type', 'posting_date']\n",
    "df.drop_duplicates(subset=subset_col, inplace=True)"
   ]
  },
  {
   "cell_type": "markdown",
   "id": "5ca84b33",
   "metadata": {},
   "source": [
    "Loại bỏ đi các cột có application_deadline < posting_date"
   ]
  },
  {
   "cell_type": "code",
   "execution_count": null,
   "id": "86985ff4",
   "metadata": {},
   "outputs": [],
   "source": [
    "df = df[df[\"application_deadline\"] > df[\"posting_date\"]]"
   ]
  },
  {
   "cell_type": "markdown",
   "id": "b0eab374",
   "metadata": {},
   "source": [
    "3. Xem qua tập dữ liệu các cột"
   ]
  },
  {
   "cell_type": "code",
   "execution_count": null,
   "id": "f9335513",
   "metadata": {},
   "outputs": [],
   "source": [
    "# Định nghĩa các cột\n",
    "str_columns = [col for col in df.select_dtypes(include=['object']).columns if col != 'job_id']\n",
    "continuous_columns = ['salary_usd', 'job_description_length', 'years_experience', 'benefits_score']\n",
    "discrete_column = ['remote_ratio']\n",
    "\n",
    "# Tổng số biểu đồ cần vẽ\n",
    "total_plots = len(continuous_columns) + len(discrete_column) + len(str_columns)\n",
    "\n",
    "# Tính số dòng cần thiết (3 cột mỗi dòng)\n",
    "n_rows = math.ceil(total_plots / 3)\n",
    "\n",
    "# Cải thiện: Sử dụng style của seaborn để có giao diện đẹp hơn\n",
    "# Đảm bảo seaborn đã được import (ví dụ: import seaborn as sns)\n",
    "# và matplotlib.pyplot đã được import (ví dụ: import matplotlib.pyplot as plt)\n",
    "plt.style.use('seaborn-v0_8-darkgrid') # Hoặc 'ggplot', 'fivethirtyeight' để thử các phong cách khác\n",
    "\n",
    "# Tạo figure với subplot\n",
    "# Cải thiện: Tăng kích thước figure để biểu đồ rõ ràng hơn và có không gian hơn\n",
    "fig, axes = plt.subplots(n_rows, 3, figsize=(24, 7 * n_rows)) # Tăng chiều rộng và chiều cao\n",
    "axes = axes.flatten()  # Chuyển thành mảng 1 chiều để dễ truy cập\n",
    "\n",
    "# Đếm vị trí hiện tại\n",
    "plot_idx = 0\n",
    "\n",
    "# 1. Vẽ KDE plot cho các biến continuous\n",
    "for col in continuous_columns:\n",
    "    if plot_idx < len(axes):\n",
    "        ax = axes[plot_idx]\n",
    "        # Cải thiện: Sử dụng sns.kdeplot và sns.histplot để tận dụng các tính năng của seaborn\n",
    "        # Sử dụng màu sắc từ palette của seaborn để có sự nhất quán và hấp dẫn hơn\n",
    "        sns.kdeplot(df[col], ax=ax, fill=True, color=sns.color_palette(\"viridis\")[0], alpha=0.7, linewidth=2)\n",
    "        \n",
    "        # Thêm histogram mờ phía sau để thấy distribution rõ hơn\n",
    "        sns.histplot(df[col], ax=ax, bins=30, alpha=0.3, color=sns.color_palette(\"viridis\")[1], stat='density', kde=False)\n",
    "        \n",
    "        # Cải thiện: Tiêu đề rõ ràng hơn, font lớn hơn, màu sắc đậm hơn\n",
    "        ax.set_title(f'Phân bố: {col.replace(\"_\", \" \").title()}', fontsize=16, fontweight='bold', color='darkblue')\n",
    "        # Cải thiện: Kích thước chữ cho nhãn trục\n",
    "        ax.set_xlabel(col.replace('_', ' ').title(), fontsize=12)\n",
    "        ax.set_ylabel('Mật độ', fontsize=12)\n",
    "        # Cải thiện: Kích thước chữ cho các giá trị trên trục\n",
    "        ax.tick_params(axis='both', which='major', labelsize=10)\n",
    "        # Cải thiện: Kiểu lưới rõ ràng hơn\n",
    "        ax.grid(True, linestyle='--', alpha=0.6)\n",
    "        \n",
    "        # Thêm vertical line cho mean và median\n",
    "        mean_val = df[col].mean()\n",
    "        median_val = df[col].median()\n",
    "        # Cải thiện: Alpha cao hơn cho đường trung bình/trung vị\n",
    "        ax.axvline(mean_val, color='red', linestyle='--', alpha=0.8, label=f'Trung bình: {mean_val:,.0f}')\n",
    "        ax.axvline(median_val, color='green', linestyle='--', alpha=0.8, label=f'Trung vị: {median_val:,.0f}')\n",
    "        # Cải thiện: Legend đẹp hơn với khung và đổ bóng\n",
    "        ax.legend(fontsize=10, frameon=True, shadow=True)\n",
    "        \n",
    "        plot_idx += 1\n",
    "\n",
    "# 2. Vẽ bar plot cho biến discrete (remote_ratio)\n",
    "for col in discrete_column:\n",
    "    if plot_idx < len(axes):\n",
    "        ax = axes[plot_idx]\n",
    "        # Đếm tần suất của từng giá trị\n",
    "        value_counts = df[col].value_counts().sort_index()\n",
    "        \n",
    "        # Cải thiện: Sử dụng màu sắc khác từ palette và thêm viền cho các cột\n",
    "        bars = ax.bar(value_counts.index.astype(str), value_counts.values, color=sns.color_palette(\"pastel\")[2], edgecolor='black')\n",
    "        ax.set_title(f'Phân bố: {col.replace(\"_\", \" \").title()}', fontsize=16, fontweight='bold', color='darkblue')\n",
    "        ax.set_xlabel(col.replace('_', ' ').title(), fontsize=12)\n",
    "        ax.set_ylabel('Số lượng', fontsize=12)\n",
    "        ax.tick_params(axis='both', which='major', labelsize=10)\n",
    "        ax.grid(True, alpha=0.3, axis='y', linestyle='--')\n",
    "        \n",
    "        # Thêm giá trị trên mỗi cột\n",
    "        for bar in bars:\n",
    "            yval = bar.get_height()\n",
    "            # Cải thiện: Vị trí và font của giá trị trên cột\n",
    "            ax.text(bar.get_x() + bar.get_width()/2, yval + 0.5, int(yval), ha='center', va='bottom', fontsize=10, fontweight='bold')\n",
    "        \n",
    "        plot_idx += 1\n",
    "\n",
    "# 3. Vẽ horizontal bar plot cho các biến string\n",
    "for col in str_columns:\n",
    "    if plot_idx < len(axes):\n",
    "        ax = axes[plot_idx]\n",
    "        # Lấy top 10 giá trị phổ biến nhất và sắp xếp tăng dần để dễ đọc\n",
    "        top_values = df[col].value_counts().head(10).sort_values(ascending=True)\n",
    "        \n",
    "        # Vẽ horizontal bar plot\n",
    "        y_pos = range(len(top_values))\n",
    "        # Cải thiện: Màu sắc và viền cho các thanh\n",
    "        bars = ax.barh(y_pos, top_values.values, color=sns.color_palette(\"deep\")[3], edgecolor='black')\n",
    "        ax.set_yticks(y_pos)\n",
    "        ax.set_yticklabels(top_values.index, fontsize=10)\n",
    "        ax.set_title(f'Top 10: {col.replace(\"_\", \" \").title()}', fontsize=16, fontweight='bold', color='darkblue')\n",
    "        ax.set_xlabel('Số lượng', fontsize=12)\n",
    "        ax.tick_params(axis='x', which='major', labelsize=10)\n",
    "        ax.grid(True, alpha=0.3, axis='x', linestyle='--')\n",
    "        \n",
    "        # Thêm giá trị trên các thanh\n",
    "        for bar in bars:\n",
    "            xval = bar.get_width()\n",
    "            # Cải thiện: Vị trí và font của giá trị trên thanh\n",
    "            ax.text(xval + 0.1, bar.get_y() + bar.get_height()/2, int(xval), va='center', fontsize=10, fontweight='bold')\n",
    "        \n",
    "        plot_idx += 1\n",
    "\n",
    "# Ẩn các subplot thừa\n",
    "for idx in range(plot_idx, len(axes)):\n",
    "    axes[idx].axis('off')\n",
    "\n",
    "# Điều chỉnh layout\n",
    "# Cải thiện: Thêm padding giữa các subplot\n",
    "plt.tight_layout(pad=3.0)\n",
    "# Cải thiện: Thêm tiêu đề chung cho toàn bộ figure\n",
    "plt.suptitle('Phân tích phân bố dữ liệu', y=1.02, fontsize=20, fontweight='bold', color='darkred')\n",
    "plt.show()\n"
   ]
  },
  {
   "cell_type": "markdown",
   "id": "2945f3e7",
   "metadata": {},
   "source": [
    "**Nhận xét về mặt dữ liệu**: \n",
    "- Dữ liệu có vẻ như không bị lỗi gì, tuy nhiên nếu ta chú ý vào cột required_skills thì ta nhân thấy rằng khi phản ảnh lên biểu đồ cột ngang thì có vẻ như nó chưa thể hiện đúng bản chất vấn đề. Ta cần tách chúng ra để dễ dàng phân tích \n",
    "\n",
    "**Nhận xét chung về mặt phân tích**:\n",
    "- Đối với cột salary_usd, lương có xu hướng tập trung nhiều 70-90k USD/Năm. So với mặt bằng chung thì là cao.\n",
    "- Đối với cột years_experience thì kinh nghiệm các công ty tuyển dụng nói chung thì đang tập trung tìm kiếm các ứng viên là thực tập sinh. Cơ bản mà nói thì các nghành về dữ liệu/trí tuệ nhân tạo cũng chỉ mới phát triển mạnh vào những năm gần đây\n",
    "- Các biểu đồ khác khá đồng đều nhau, cho thấy nhu câu tuyển dụng phân bổ khá đồng đều. Tuy vậy, tôi tập trung vào biểu đồ Experience Level thì tôi nhận thấy rằng: mặc dù ở trên như ta thấy thì vị trí 0 year-exp chiếm nhiều nhất. Tuy vậy ở biểu đồ Experience Level thì MI (Level trung cấp) đang chiếm nhiều nhất, theo logic của tôi thì EN (Entry Level) lẽ ra phải nhiều nhất chứ. Có lẽ điều này tôi sẽ kiểm tra sau"
   ]
  },
  {
   "cell_type": "markdown",
   "id": "306e0314",
   "metadata": {},
   "source": [
    "### Công việc tiếp theo: tách bảng ban đầu thành 2 bảng: bảng chứa chỉ chứa job_id, required_skills (tuy nhiên dữ liệu đã được chuẩn) và bảng chứa tất cả các trường ngoại trừ required_skills "
   ]
  },
  {
   "cell_type": "code",
   "execution_count": null,
   "id": "4302f56d",
   "metadata": {},
   "outputs": [],
   "source": [
    "# Tạo DataFrame mới chứa job_id và required_skills\n",
    "skill_df = df[['job_id','required_skills']].copy() \n",
    "skill_df['required_skills'] = skill_df['required_skills'].str.split(',')\n",
    "skill_df['required_skills'] = skill_df['required_skills'].apply(lambda x: [skill.title().strip() for skill in x])\n",
    "skill_df = skill_df.explode(column='required_skills')\n",
    "skill_df = pd.DataFrame(skill_df)\n",
    "# Dataframe không chứa required_skills\n",
    "new_df = df.drop(columns=['required_skills'])"
   ]
  },
  {
   "cell_type": "code",
   "execution_count": null,
   "id": "7c4c6fcd",
   "metadata": {},
   "outputs": [],
   "source": [
    "\n",
    "frequency = skill_df['required_skills'].value_counts().head(10)\n",
    "\n",
    "# Chuẩn bị dữ liệu cho biểu đồ\n",
    "categories = frequency.index.tolist() # Lấy các tên danh mục từ index của Series\n",
    "values = frequency.values.tolist()    # Lấy các giá trị tần suất\n",
    "\n",
    "# --- Phần vẽ biểu đồ cột ngang (tương tự như ví dụ trước) ---\n",
    "fig, ax = plt.subplots(figsize=(10, 6))\n",
    "\n",
    "# Vẽ biểu đồ cột ngang\n",
    "bars = ax.barh(np.arange(len(categories)), values)\n",
    "\n",
    "# Đặt nhãn cho trục y (các cột chữ)\n",
    "ax.set_yticks(np.arange(len(categories)))\n",
    "ax.set_yticklabels(categories)\n",
    "\n",
    "# Đảo ngược trục y để cột đầu tiên hiển thị ở trên cùng\n",
    "ax.invert_yaxis()\n",
    "\n",
    "# Thêm nhãn giá trị vào cuối mỗi cột\n",
    "for bar in bars:\n",
    "    width = bar.get_width()\n",
    "    ax.text(width + 0.5, bar.get_y() + bar.get_height()/2,\n",
    "            f'{width}',\n",
    "            ha='left', va='center')\n",
    "\n",
    "# Đặt tiêu đề và nhãn trục\n",
    "ax.set_xlabel('Số lượng')\n",
    "ax.set_title('Biểu đồ cột ngang top 10 kỹ năng cần thiết')\n",
    "\n",
    "# Hiển thị lưới\n",
    "ax.grid(axis='x', linestyle='--', alpha=0.7)\n",
    "\n",
    "plt.tight_layout()\n",
    "plt.show()\n"
   ]
  },
  {
   "cell_type": "markdown",
   "id": "0f27d0c2",
   "metadata": {},
   "source": [
    "**Insight**: Python vẫn luôn là kỹ năng quan trọng trong nghành khoa học dữ liệu nói chung và lập trình nói riêng. Bên cạnh đó, SQL cũng quan trọng không kém. Tensorflow cũng nổi trội tuy nhiên chỉ phù hợp với các vị trí như ML, AI, ..."
   ]
  },
  {
   "cell_type": "markdown",
   "id": "de468f24",
   "metadata": {},
   "source": [
    "## **Dashboard 1: Tổng quan toàn cảnh thị trường**"
   ]
  },
  {
   "cell_type": "markdown",
   "id": "80e1ec75",
   "metadata": {},
   "source": [
    "### **Dashboard dành cho**: các nhà quản lý, lãnh đạo\n",
    "### **Câu hỏi**: các nhà quản lý, lãnh đạo quan tâm đến điều gì ?\n",
    "#### 1. Phân Tích Cạnh Tranh về Lương Thưởng (Compensation & Competitive Analysis)\n",
    "\n",
    "**Câu hỏi kinh doanh**:\n",
    "+ Chúng ta đang trả lương có cạnh tranh không?\n",
    "+ Chúng ta nên đặt ngân sách lương thưởng như thế nào cho các vị trí và thị trường khác nhau?\n",
    "\n",
    "#### 2. Hoạch Định Kỹ Năng và Nguồn Lực (Skills & Workforce Planning)\n",
    "\n",
    "**Câu hỏi kinh doanh**:\n",
    "+ Chúng ta cần tập trung và đào tạo những kỹ năng nào cho nhân viên ?\n",
    "+ Phúc lợi tương ứng đối với từng vị trí cho nhân viên ?\n",
    "\n",
    "#### 3. Phân Tích Mô Hình Làm Việc và Địa Lý (Work Model & Geo Analysis)\n",
    "\n",
    "**Câu hỏi kinh doanh**:\n",
    "+ Mỏ vàng nhân tài đang nằm ở đâu ?\n",
    "+ Có nên mở rộng mô hình làm việc của công ty ?"
   ]
  },
  {
   "cell_type": "markdown",
   "id": "4c938024",
   "metadata": {},
   "source": [
    "### **1. Phân tích cạnh tranh về lương thưởng**"
   ]
  },
  {
   "cell_type": "markdown",
   "id": "141d3a64",
   "metadata": {},
   "source": [
    "#### Đầu tiên, tôi cần xác định xem cái vấn đề ở trên của tôi: có đúng là năm kinh nghiệm có mối quan hệ với experience level không"
   ]
  },
  {
   "cell_type": "code",
   "execution_count": null,
   "id": "15ee5636",
   "metadata": {},
   "outputs": [],
   "source": [
    "\n",
    "plt.figure(figsize=(12, 7))\n",
    "# Thay bằng sns.violinplot\n",
    "sns.boxplot(x='experience_level', y='years_experience', data=df)\n",
    "\n",
    "plt.title('So sánh số năm kinh nghiệm theo cấp bậc', fontsize=16)\n",
    "plt.xlabel('Cấp bậc kinh nghiệm (Experience Level)', fontsize=12)\n",
    "plt.ylabel('Số năm kinh nghiệm (Years of Experience)', fontsize=12)\n",
    "plt.xticks(rotation=45)\n",
    "plt.grid(axis='y', linestyle='--', alpha=0.7)\n",
    "plt.show()"
   ]
  },
  {
   "cell_type": "markdown",
   "id": "5c66356f",
   "metadata": {},
   "source": [
    "**Như ta thấy ở đây**:\n",
    "1. Mức độ entry (E): thường nằm ở mức kinh nghiệm là từ 0 đến 1 (hoặc 2)\n",
    "2. Mức độ trung cấp (M): Có số năm kinh nghiệm khoảng từ 2.5 đến 4 (hoặc 5)\n",
    "3. Mức độ cao cấp (SE): có só năm kinh nghiệm trong khoảng từ 6 đến 8 năm (có một số ngoại lệ nằm trong khoảng từ 5 đến 9)\n",
    "4. Mức độ cao cấp (EX): có số năm kinh nghiệm rơi vào từ 10+\n",
    "\n",
    "**Điều đó có ý nghĩa gì ?**\n",
    "1. Việc xác định mối quan hệ giữa số năm kinh nghiệm và trình độ tương ứng có thể giúp cho doanh nghiệp xác định được mức độ phù hợp cho ứng viên. Từ đó có thể chọn được chính sách lương thưởng cho đúng đắn\n",
    "2. Việc xác định rõ mối quan hệ này cũng giúp cho doanh nghiệp dễ dàng đánh giá người lao động và xếp hạng cho họ tương ứng. Đồng thời có những chính sách đãi ngộ cũng như là chính sách training phù hợp cho từng vị trí kinh nghiệm làm việc"
   ]
  },
  {
   "cell_type": "markdown",
   "id": "ef780a70",
   "metadata": {},
   "source": [
    "#### Tiếp theo, tôi quan tâm đến số tiền lương trung bình cho từng vị trí là như thế nào ?"
   ]
  },
  {
   "cell_type": "code",
   "execution_count": null,
   "id": "4fcc0635",
   "metadata": {},
   "outputs": [],
   "source": [
    "avg_salary_each_exp = df.groupby('experience_level')['salary_usd'].mean().sort_values(ascending=False)\n",
    "\n",
    "# Vẽ biểu đồ\n",
    "plt.figure(figsize=(12, 7))\n",
    "barplot = sns.barplot(x=avg_salary_each_exp.index, y=avg_salary_each_exp.values)\n",
    "\n",
    "# Thêm nhãn giá trị trên mỗi cột để dễ đọc\n",
    "for p in barplot.patches:\n",
    "    barplot.annotate(format(p.get_height(), ',.0f') + ' USD', \n",
    "                   (p.get_x() + p.get_width() / 2., p.get_height()), \n",
    "                   ha = 'center', va = 'center', \n",
    "                   xytext = (0, 9), \n",
    "                   textcoords = 'offset points')\n",
    "\n",
    "# Đặt tiêu đề và nhãn\n",
    "plt.title('Mức lương trung bình (USD) theo cấp bậc kinh nghiệm', fontsize=16)\n",
    "plt.xlabel('Cấp bậc kinh nghiệm (Experience Level)', fontsize=12)\n",
    "plt.ylabel('Lương trung bình (USD)', fontsize=12)\n",
    "plt.xticks(rotation=45)\n",
    "plt.tight_layout() # Tự động điều chỉnh cho vừa vặn\n",
    "plt.show()"
   ]
  },
  {
   "cell_type": "markdown",
   "id": "fb09f8fb",
   "metadata": {},
   "source": [
    "**Ta có nhận xét sau**:\n",
    "\n",
    "Mức độ tăng trưởng lương rất cao qua các cấp bậc: từ vị trí EN đến EX, lương trung bình tăng gần 3x (từ $63K lên $188K). Để dễ hình dung, nếu kinh nghiệm của bạn tích lũy được thêm 9 năm, số tiền của bạn tương ứng tâng lên 3 lần. Tuy nhiên, cũng cần lưu ý rằng số năm kinh nghiệm không đảm bảo hoàn toàn rằng việc bạn có thể được tăng lương như vậy vì nó còn phụ thuộc nhiều vào các yếu tố khác nữa như: kỹ năng, hiệu suất, ...  \n",
    "\n",
    "**Dựa vào biểu đồ trên, các nhà quản lý có thể\"**\n",
    "+ Cho nhân viên thấy được potential growth, tạo động lực cho nhân viên\n",
    "+ Xác định được khoảng lương cụ thể cho từng vị trí\n",
    "+ Dễ dàng tìm kiếm các ứng viên phù hợp dựa vào tình hình tài chính của công ty\n"
   ]
  },
  {
   "cell_type": "markdown",
   "id": "96767fff",
   "metadata": {},
   "source": [
    "#### Việc dựa vào vị trí để xác định mỗi lương thưởng nói chung là chưa đủ, có lẽ để hợp lý hơn. Ta cần chia theo cả loại hình công việc, quy mô công ty và theo quốc gia"
   ]
  },
  {
   "cell_type": "markdown",
   "id": "e9b4367c",
   "metadata": {},
   "source": [
    "**Công việc này sẽ được thực hiện ở trên power bi**"
   ]
  },
  {
   "cell_type": "markdown",
   "id": "c286eaf5",
   "metadata": {},
   "source": [
    "### **2. Hoạch Định Kỹ Năng và Nguồn Lực**"
   ]
  },
  {
   "cell_type": "markdown",
   "id": "e05e68a6",
   "metadata": {},
   "source": [
    "Như tôi đã phân tích tổng quan trước đó thì các kỹ năng được các nhà tuyển dụng tìm kiếm hàng nhiều nhất ở vị trí hiện tại đang là Python. Tiếp theo đó là SQL, Tensorflow, .... Bây giờ, ta cùng phân tích kỹ hơn chút"
   ]
  },
  {
   "cell_type": "markdown",
   "id": "9a12cfd4",
   "metadata": {},
   "source": [
    "#### Giải quyết vấn đề 1: Ta cần tập trung những kỹ năng nào cho nhân viên ?"
   ]
  },
  {
   "cell_type": "markdown",
   "id": "92658eee",
   "metadata": {},
   "source": [
    "Đầu tiên ta cần phân rã từng nghành tương ứng (trong power bi ta sẽ dùng bộ lọc)"
   ]
  },
  {
   "cell_type": "code",
   "execution_count": null,
   "id": "cc9b3efb",
   "metadata": {},
   "outputs": [],
   "source": [
    "all_table =  new_df.merge(skill_df,left_on='job_id',right_on='job_id',how='inner')"
   ]
  },
  {
   "cell_type": "code",
   "execution_count": null,
   "id": "379d8ad1",
   "metadata": {},
   "outputs": [],
   "source": [
    "\n",
    "job_titles = sorted(all_table['job_title'].unique())\n",
    "\n",
    "# --- BƯỚC 2: TẠO HÀM ĐỂ VẼ BIỂU ĐỒ CHO MỘT NGÀNH NGHỀ DUY NHẤT ---\n",
    "# Hàm này sẽ được gọi mỗi khi bạn thay đổi lựa chọn trong dropdown\n",
    "def plot_skills_for_job(job_title):\n",
    "    # Lọc dữ liệu cho ngành nghề được chọn\n",
    "    job_skills = all_table[all_table['job_title'] == job_title]\n",
    "    \n",
    "    # Đếm top 10 kỹ năng\n",
    "    top_10_skills = job_skills['required_skills'].value_counts().nlargest(10)\n",
    "    \n",
    "    # Vẽ biểu đồ\n",
    "    plt.figure(figsize=(10, 7))\n",
    "    sns.barplot(x=top_10_skills.values, y=top_10_skills.index)\n",
    "    \n",
    "    # Tinh chỉnh biểu đồ\n",
    "    plt.title(f'Top 10 Kỹ năng Quan trọng cho: {job_title}', fontsize=16)\n",
    "    plt.xlabel('Số lượng yêu cầu', fontsize=12)\n",
    "    plt.ylabel('Kỹ năng', fontsize=12)\n",
    "    plt.tight_layout()\n",
    "    plt.show()\n",
    "\n",
    "# --- BƯỚC 3: TẠO VÀ HIỂN THỊ BỘ LỌC TƯƠNG TÁC ---\n",
    "# widgets.interactive sẽ kết nối hàm plot_skills_for_job với dropdown\n",
    "# Mỗi giá trị trong dropdown sẽ được truyền vào tham số 'job_title' của hàm\n",
    "interactive_plot = widgets.interactive(\n",
    "    plot_skills_for_job, \n",
    "    job_title=widgets.Dropdown(options=job_titles, description='Chọn Ngành:')\n",
    ")\n",
    "\n",
    "# Hiển thị bộ lọc và khu vực biểu đồ\n",
    "display(interactive_plot)"
   ]
  },
  {
   "cell_type": "markdown",
   "id": "a7b15dbf",
   "metadata": {},
   "source": [
    "Chưa dừng lại ở đó, ta sẽ tìm bộ kỹ năng \"vàng\": top 10 kỹ năng được trả lương cao nhất"
   ]
  },
  {
   "cell_type": "code",
   "execution_count": null,
   "id": "8052f7ef",
   "metadata": {},
   "outputs": [],
   "source": [
    "skill_salary_analysis = all_table.groupby('required_skills')['salary_usd'].agg(['mean', 'median', 'count'])\n",
    "skill_salary_analysis = skill_salary_analysis.sort_values(by='mean', ascending=False)\n",
    "\n",
    "# Lọc ra những kỹ năng có 'count' lớn hơn hoặc bằng ngưỡng\n",
    "significant_skills = skill_salary_analysis[skill_salary_analysis['count'] >= 5]\n",
    "\n",
    "# Sắp xếp lại sau khi đã lọc\n",
    "top_paying_skills = significant_skills.sort_values(by='mean', ascending=False)\n",
    "\n",
    "# Làm cho bảng trông đẹp hơn\n",
    "styled_table = top_paying_skills.head(10).style.format({\n",
    "    'mean': '${:,.0f}',\n",
    "    'median': '${:,.0f}'\n",
    "}).set_caption('Top 10 Kỹ năng được trả lương cao nhất (USD)')\n",
    "\n",
    "display(styled_table)\n"
   ]
  },
  {
   "cell_type": "markdown",
   "id": "6660200d",
   "metadata": {},
   "source": [
    "**Dựa vào các biểu đồ trên, các nhà quản lý lãnh đạo có thể**:\n",
    "- Lên phương án đào tạo cho nhân viên\n",
    "- Nắm bắt được xu hướng của thị trường (phát triển theo hướng công nghệ/ tự động hóa/ ...)"
   ]
  },
  {
   "cell_type": "markdown",
   "id": "818867c2",
   "metadata": {},
   "source": [
    "#### Giải quyết vấn đề 2: Phúc lợi tương ứng đối với từng vị trí"
   ]
  },
  {
   "cell_type": "code",
   "execution_count": null,
   "id": "26146b31",
   "metadata": {},
   "outputs": [],
   "source": [
    "def get_options_with_all(column_name):\n",
    "    \"\"\"Hàm helper để lấy các giá trị duy nhất và thêm 'Tất cả' vào đầu\"\"\"\n",
    "    options = ['Tất cả'] + sorted(new_df[column_name].unique().tolist())\n",
    "    return options\n",
    "\n",
    "# Tạo các dropdown widget\n",
    "industry_widget = widgets.Dropdown(options=get_options_with_all('industry'), description='Ngành:')\n",
    "job_category_widget = widgets.Dropdown(options=get_options_with_all('job_title'), description='Loại CV:')\n",
    "experience_level_widget = widgets.Dropdown(options=get_options_with_all('experience_level'), description='Cấp bậc:')\n",
    "\n",
    "\n",
    "def display_benefit_score_card(industry, job_category, experience_level):\n",
    "    \n",
    "    # Lọc DataFrame dựa trên lựa chọn từ widgets\n",
    "    filtered_df = new_df.copy()\n",
    "    \n",
    "    if industry != 'Tất cả':\n",
    "        filtered_df = filtered_df[filtered_df['industry'] == industry]\n",
    "        \n",
    "    if job_category != 'Tất cả':\n",
    "        filtered_df = filtered_df[filtered_df['job_title'] == job_category]\n",
    "        \n",
    "    if experience_level != 'Tất cả':\n",
    "        filtered_df = filtered_df[filtered_df['experience_level'] == experience_level]\n",
    "        \n",
    "    # Tính toán điểm trung bình\n",
    "    if not filtered_df.empty:\n",
    "        avg_score = filtered_df['benefits_score'].mean()\n",
    "        score_text = f\"{avg_score:.2f}\"\n",
    "        num_jobs = len(filtered_df)\n",
    "        footer_text = f\"Dựa trên {num_jobs} tin tuyển dụng\"\n",
    "    else:\n",
    "        score_text = \"N/A\" # Không có dữ liệu\n",
    "        footer_text = \"Không có dữ liệu phù hợp\"\n",
    "        \n",
    "    # Vẽ card bằng matplotlib\n",
    "    fig, ax = plt.subplots(figsize=(4, 2))\n",
    "    fig.patch.set_facecolor('#f0f0f0') # Màu nền cho card\n",
    "    \n",
    "    # Hiển thị giá trị chính\n",
    "    ax.text(0.5, 0.6, score_text, \n",
    "            ha='center', va='center', \n",
    "            fontsize=40, fontweight='bold', color='#007acc')\n",
    "    \n",
    "    # Hiển thị tiêu đề\n",
    "    ax.text(0.5, 0.9, 'Điểm Phúc lợi Trung bình', \n",
    "            ha='center', va='center', \n",
    "            fontsize=14)\n",
    "\n",
    "    # Hiển thị footer\n",
    "    ax.text(0.5, 0.1, footer_text, \n",
    "            ha='center', va='center', \n",
    "            fontsize=10, color='grey')\n",
    "            \n",
    "    # Ẩn các trục\n",
    "    ax.axis('off')\n",
    "    plt.show()\n",
    "\n",
    "\n",
    "# widgets.interactive sẽ theo dõi sự thay đổi của các widget\n",
    "interactive_card = widgets.interactive(\n",
    "    display_benefit_score_card,\n",
    "    industry=industry_widget,\n",
    "    job_category=job_category_widget,\n",
    "    experience_level=experience_level_widget\n",
    ")\n",
    "\n",
    "# Hiển thị các bộ lọc và khu vực card\n",
    "display(interactive_card)"
   ]
  },
  {
   "cell_type": "markdown",
   "id": "3853ecda",
   "metadata": {},
   "source": [
    "**Dựa vào card trên, các nhà quản lý có thể:**\n",
    "- Thay đổi các chính sách đãi ngộ của công ty để tìm kiếm các nhân tài: tăng lương thưởng, tổ chức nhiều hoạt động vui chơi hàng tháng/quý hơn,...\n",
    "- Tạo thế cạnh tranh cho công ty trên thị trường lao động"
   ]
  },
  {
   "cell_type": "markdown",
   "id": "bc5e9d94",
   "metadata": {},
   "source": [
    "### **3. Phân tích mô hình làm việc và địa lý**"
   ]
  },
  {
   "cell_type": "markdown",
   "id": "825c5967",
   "metadata": {},
   "source": [
    "#### Giải quyết vấn đề 1: Mỏ vàng nhân tài nằm ở đâu ?"
   ]
  },
  {
   "cell_type": "markdown",
   "id": "43d613f7",
   "metadata": {},
   "source": [
    "1. Đếm số lượng tuyển dụng nhân viên trong nghành AI/Data theo employee_residence"
   ]
  },
  {
   "cell_type": "code",
   "execution_count": null,
   "id": "9885959a",
   "metadata": {},
   "outputs": [],
   "source": [
    "plt.figure(figsize=(12, 6)) # Tùy chỉnh kích thước biểu đồ cho dễ nhìn\n",
    "sns.countplot(x='employee_residence', data=new_df, order=new_df['employee_residence'].value_counts().sort_values(ascending=False).index[:10])\n",
    "plt.title('Top 10 địa điểm hot nhất nghành AI/Data')\n",
    "plt.xlabel('Nơi cư trú')\n",
    "plt.ylabel('Số lượng tuyên dụng')\n",
    "plt.xticks(rotation=90) # Xoay nhãn trục x nếu có nhiều quốc gia\n",
    "plt.tight_layout() # Điều chỉnh bố cục để tránh nhãn bị cắt\n",
    "plt.show()"
   ]
  },
  {
   "cell_type": "markdown",
   "id": "df6c1fd0",
   "metadata": {},
   "source": [
    "**Biểu đồ trên giúp các nhà quản lý**: Biết đâu là \"điểm nóng AI\", xem xét cơ hội cạnh tranh (nếu có)\n"
   ]
  },
  {
   "cell_type": "markdown",
   "id": "1fc1018b",
   "metadata": {},
   "source": [
    "2. Phân tích điểm nóng và chi phí tương ứng phải chi trả"
   ]
  },
  {
   "cell_type": "code",
   "execution_count": null,
   "id": "abe57c7d",
   "metadata": {},
   "outputs": [],
   "source": [
    "\n",
    "# Thiết lập kiểu biểu đồ Seaborn thành 'white' để loại bỏ nền và đường lưới\n",
    "sns.set_style('white')\n",
    "\n",
    "value_analysis = new_df.groupby('employee_residence')['salary_usd'].agg(['count', 'mean']).round(0)\n",
    "# Lọc ra những nơi có ít nhất 5 nhân tài để kết quả đáng tin cậy\n",
    "value_analysis_significant = value_analysis[value_analysis['count'] >= 5]\n",
    "# Sắp xếp DataFrame để biểu đồ dễ đọc hơn (lấy top 10 theo count)\n",
    "value_analysis_significant_sorted = value_analysis_significant.sort_values(by='count', ascending=False).head(10)\n",
    "\n",
    "# Tạo figure và trục chính (ax1) cho biểu đồ cột\n",
    "fig, ax1 = plt.subplots(figsize=(14, 7))\n",
    "\n",
    "# Vẽ biểu đồ cột cho số lượng (count) với màu đơn giản\n",
    "sns.barplot(x='employee_residence', y='count', data=value_analysis_significant_sorted, ax=ax1, color='skyblue')\n",
    "ax1.set_xlabel('Nơi cư trú của ứng viên')\n",
    "ax1.set_ylabel('Số lượng tuyển dụng', color='blue')\n",
    "ax1.tick_params(axis='y', labelcolor='blue')\n",
    "ax1.set_title('Điểm nóng AI/Data với chi phí đi kèm')\n",
    "ax1.tick_params(axis='x', rotation=45) # Xoay nhãn trục x để tránh chồng chéo\n",
    "\n",
    "# Tạo trục y thứ hai (ax2) chia sẻ trục x với ax1\n",
    "ax2 = ax1.twinx()\n",
    "\n",
    "# Vẽ biểu đồ đường cho lương trung bình (mean)\n",
    "sns.lineplot(x='employee_residence', y='mean', data=value_analysis_significant_sorted, ax=ax2, color='red', marker='o', linewidth=2)\n",
    "ax2.set_ylabel('Lương trung bình (USD)', color='red')\n",
    "ax2.tick_params(axis='y', labelcolor='red')\n",
    "ax2.ticklabel_format(style='plain', axis='y') # Loại bỏ ký hiệu khoa học nếu có\n",
    "\n",
    "# Điều chỉnh bố cục và hiển thị biểu đồ\n",
    "plt.tight_layout()\n",
    "plt.show()\n"
   ]
  },
  {
   "cell_type": "markdown",
   "id": "01684e1e",
   "metadata": {},
   "source": [
    "**Ở đây ta thấy**\n",
    "- China/India là một trong những điểm nóng công nghệ trên thế giới. Mà hơn nữa, chi phí như ta thấy là thấp nhất -> Thế nên nhà lãnh đạo có thể tập trung vào thị trường này. Một lựa chọn khác là ở thị trường ấn độ"
   ]
  },
  {
   "cell_type": "markdown",
   "id": "82ab914f",
   "metadata": {},
   "source": [
    "3. Các chuyên gia đầu nghành họ ở đâu ?"
   ]
  },
  {
   "cell_type": "code",
   "execution_count": null,
   "id": "fb3148de",
   "metadata": {},
   "outputs": [],
   "source": [
    "exp_filter = sorted(new_df['experience_level'].unique())\n",
    "\n",
    "def my_plot(exp_input):\n",
    "    # Đảm bảo exp_input là một list hoặc tuple, ngay cả khi chỉ chọn một giá trị\n",
    "    # SelectMultiple luôn trả về một tuple, nhưng kiểm tra này an toàn hơn\n",
    "    if not isinstance(exp_input, (list, tuple)):\n",
    "        exp_input = [exp_input]\n",
    "\n",
    "    # Lọc DataFrame dựa trên nhiều cấp độ kinh nghiệm được chọn\n",
    "    # Sử dụng .isin() để kiểm tra xem giá trị có nằm trong list các lựa chọn không\n",
    "    df_temp = new_df[new_df['experience_level'].isin(exp_input)].copy()\n",
    "\n",
    "    plt.figure(figsize=(12, 6))\n",
    "\n",
    "    if not df_temp.empty:\n",
    "        # Lấy top 10 địa điểm hot nhất theo số lượng nhân viên\n",
    "        # Sắp xếp lại theo số lượng giảm dần\n",
    "        top_10_locations = df_temp['employee_residence'].value_counts().sort_values(ascending=False).index[:10]\n",
    "        sns.countplot(x='employee_residence', data=df_temp, order=top_10_locations, color='skyblue')\n",
    "        # Tiêu đề biểu đồ động, hiển thị các cấp độ kinh nghiệm đã chọn\n",
    "        # Chuyển đổi tuple/list exp_input thành chuỗi để hiển thị\n",
    "        title_exp = ', '.join(exp_input) if exp_input else 'Tất cả'\n",
    "        plt.title(f'Top 10 địa điểm hot nhất ngành AI/Data cho cấp độ kinh nghiệm: {title_exp}')\n",
    "        plt.xlabel('Nơi cư trú')\n",
    "        plt.ylabel('Số lượng nhân viên')\n",
    "        plt.xticks(rotation=90) # Xoay nhãn trục x để dễ đọc\n",
    "        plt.tight_layout() # Điều chỉnh bố cục để tránh nhãn bị cắt\n",
    "    else:\n",
    "        # Hiển thị thông báo nếu không có dữ liệu cho các cấp độ kinh nghiệm này\n",
    "        plt.text(0.5, 0.5, 'Không có dữ liệu cho các cấp độ kinh nghiệm này',\n",
    "                 horizontalalignment='center', verticalalignment='center',\n",
    "                 transform=plt.gca().transAxes, fontsize=14, color='red')\n",
    "        title_exp = ', '.join(exp_input) if exp_input else 'Tất cả'\n",
    "        plt.title(f'Không có dữ liệu cho cấp độ kinh nghiệm: {title_exp}')\n",
    "        plt.axis('off') # Tắt trục nếu không có dữ liệu\n",
    "\n",
    "\n",
    "# Tạo interactive widget với SelectMultiple để lựa chọn nhiều giá trị\n",
    "interactive_plot = widgets.interactive(\n",
    "    my_plot,\n",
    "    exp_input = widgets.SelectMultiple(\n",
    "        options=exp_filter,\n",
    "        # Đặt giá trị mặc định. Chọn phần tử đầu tiên nếu exp_filter không rỗng.\n",
    "        value=[exp_filter[0]] if exp_filter else [],\n",
    "        description='Cấp độ kinh nghiệm:',\n",
    "        disabled=False\n",
    "    )\n",
    ")\n",
    "\n",
    "display(interactive_plot)\n"
   ]
  },
  {
   "cell_type": "markdown",
   "id": "626a2383",
   "metadata": {},
   "source": [
    "**Công dụng biểu đồ**: Tìm kiếm được những thị trường giàu kinh nghiệm, kỹ năng và đáp ứng nhu cầu riêng của doanh nghiệp"
   ]
  },
  {
   "cell_type": "markdown",
   "id": "8e27db48",
   "metadata": {},
   "source": [
    "#### Giải quyết vấn đề 2: Có nên mở rộng mô hình làm việc của công ty ?"
   ]
  },
  {
   "cell_type": "markdown",
   "id": "bd05d630",
   "metadata": {},
   "source": [
    "Số lượng tuyển dụng với từng mô hình xét theo mô hình doanh nghiệp, nghành"
   ]
  },
  {
   "cell_type": "code",
   "execution_count": null,
   "id": "79b13759",
   "metadata": {},
   "outputs": [],
   "source": [
    "sns.set_style(\"whitegrid\")          \n",
    "\n",
    "company_sizes = ['Tất cả'] + df['company_size'].unique().tolist()\n",
    "industries    = ['Tất cả'] + df['industry'].unique().tolist()\n",
    "\n",
    "def plot_remote_ratio_count(company_size, industry):\n",
    "    d = df.copy()\n",
    "    if company_size != 'Tất cả':\n",
    "        d = d[d['company_size'] == company_size]\n",
    "    if industry != 'Tất cả':\n",
    "        d = d[d['industry'] == industry]\n",
    "\n",
    "    plt.figure(figsize=(10, 5))\n",
    "    ax = sns.countplot(data=d, x='remote_ratio',\n",
    "                       order=[0, 50, 100],\n",
    "                       color='steelblue')         \n",
    "\n",
    "    ax.set_title('Phân bố mô hình làm việc', fontsize=14, pad=15)\n",
    "    ax.set_xlabel('Tỷ lệ làm việc từ xa (%)')\n",
    "    ax.set_ylabel('Số tin tuyển dụng')\n",
    "    ax.set_xticklabels(['On-site', 'Hybrid', 'Remote'])\n",
    "\n",
    "    for p in ax.patches:                           \n",
    "        h = p.get_height()\n",
    "        ax.annotate(f'{h}', (p.get_x()+p.get_width()/2, h),\n",
    "                    ha='center', va='bottom', fontsize=10)\n",
    "\n",
    "    plt.tight_layout()\n",
    "    plt.show()\n",
    "\n",
    "company_size_widget = widgets.Dropdown(options=company_sizes, value='Tất cả', description='Company size')\n",
    "industry_widget     = widgets.Dropdown(options=industries,    value='Tất cả', description='Industry')\n",
    "\n",
    "display(widgets.interactive(plot_remote_ratio_count,\n",
    "                            company_size=company_size_widget,\n",
    "                            industry=industry_widget))"
   ]
  },
  {
   "cell_type": "markdown",
   "id": "978518c7",
   "metadata": {},
   "source": [
    "Chi phí trung bình cho từng loại hình là như nào ?"
   ]
  },
  {
   "cell_type": "code",
   "execution_count": null,
   "id": "1c6d23af",
   "metadata": {},
   "outputs": [],
   "source": [
    "# Lấy các giá trị duy nhất cho các bộ lọc\n",
    "# Đảm bảo các giá trị này tồn tại trong new_df\n",
    "industry_options = sorted(new_df['industry'].unique())\n",
    "company_size_options = sorted(new_df['company_size'].unique())\n",
    "\n",
    "def plot_remote_salary(industry_input):\n",
    "    df_filtered = new_df.copy()\n",
    "\n",
    "    # Xử lý bộ lọc industry\n",
    "    # Kiểm tra nếu industry_input không rỗng và có ít nhất một lựa chọn\n",
    "    if industry_input and len(industry_input) > 0:\n",
    "        df_filtered = df_filtered[df_filtered['industry'].isin(industry_input)]\n",
    "\n",
    "    plt.figure(figsize=(10, 6))\n",
    "\n",
    "    if not df_filtered.empty:\n",
    "        # Nhóm theo remote_ratio và tính mức lương trung bình\n",
    "        remote_salary_analysis = df_filtered.groupby('remote_ratio')['salary_usd'].agg('mean').round(0).reset_index()\n",
    "        # Chuyển đổi remote_ratio sang chuỗi và thêm '%' để hiển thị rõ ràng\n",
    "        remote_salary_analysis['remote_ratio'] = remote_salary_analysis['remote_ratio'].astype(str) + '%'\n",
    "\n",
    "        sns.barplot(x='remote_ratio', y='salary_usd', data=remote_salary_analysis, palette='viridis')\n",
    "        plt.xlabel('Tỷ lệ làm việc từ xa')\n",
    "        plt.ylabel('Lương trung bình (USD)')\n",
    "\n",
    "        # Tạo tiêu đề động dựa trên các bộ lọc đã chọn\n",
    "        title_parts = []\n",
    "        if industry_input and len(industry_input) > 0:\n",
    "            title_parts.append(f'Ngành: {', '.join(industry_input)}')\n",
    "        if title_parts:\n",
    "            plt.title(f'Lương trung bình theo tỷ lệ làm việc từ xa ({'; '.join(title_parts)})')\n",
    "        else:\n",
    "            plt.title('Lương trung bình theo tỷ lệ làm việc từ xa (Tất cả)')\n",
    "\n",
    "        plt.ylim(bottom=0) # Đảm bảo trục y bắt đầu từ 0\n",
    "        plt.tight_layout() # Điều chỉnh bố cục để tránh chồng chéo\n",
    "    else:\n",
    "        # Hiển thị thông báo nếu không có dữ liệu sau khi lọc\n",
    "        plt.text(0.5, 0.5, 'Không có dữ liệu cho các lựa chọn này',\n",
    "                 horizontalalignment='center', verticalalignment='center',\n",
    "                 transform=plt.gca().transAxes, fontsize=14, color='red')\n",
    "        plt.title('Không có dữ liệu')\n",
    "        plt.axis('off') # Tắt trục nếu không có dữ liệu\n",
    "\n",
    "    plt.show()\n",
    "\n",
    "# Tạo các widget tương tác cho industry và company_size\n",
    "industry_widget = widgets.SelectMultiple(\n",
    "    options=industry_options,\n",
    "    description='Ngành:',\n",
    "    disabled=False\n",
    ")\n",
    "\n",
    "# Kết nối hàm vẽ biểu đồ với các widget\n",
    "interactive_plot = widgets.interactive(\n",
    "    plot_remote_salary,\n",
    "    industry_input=industry_widget\n",
    ")\n",
    "\n",
    "# Hiển thị biểu đồ tương tác\n",
    "display(interactive_plot)\n"
   ]
  },
  {
   "cell_type": "markdown",
   "id": "7a1d57b5",
   "metadata": {},
   "source": [
    "**Dựa vào 2 biểu đồ trên**:\n",
    "- Tùy theo từng hình thức doanh nghiệp là như nào thì dựa vào các biểu đồ được đưa ra, nhà lãnh đạo có thể đưa ra các quyết định. Giả định công ty hiện tại là công ty lĩnh vực công nghệ. Đối với lĩnh vực công nghệ thì việc làm việc từ xa là hoàn toàn khả thi có nhiều nền tảng online giúp cho các developer có thể tương tác, trao đổi với nhau và thực hiện công việc với nhau.\n",
    "- Dựa vào biểu đồ đầu tiên, ta thấy được rằng số lượng tuyển dụng ở cả 3 vị trí trong nghành công nghệ là như nhau. Cho ta thấy được có vẻ xu hướng thị trường về nghành công nghệ về phong cách làm việc là khá tương đồng nhau. \n",
    "- Dựa vào biểu đồ thứ hia, ta thấy được là chi phí cho làm việc hoàn toàn remote có vẻ như là rẻ nhất. Sau đó đến on-site và đến hybrid. Ở đây, quản lý có thể dựa vào văn hóa làm việc của công ty,... để ra quyết định\n",
    "- Tìm hiểu thêm về các công ty lớn trên thị trường thì ta thấy họ chuộng loại hình hybrid hơn cả. Nguyên nhân có thể là do tính chất công việc của nghành, chi phí các thứ và việc không ràng buộc on-site có thể giúp họ tiết kiệm tiền về mặt đi lại, ... cho nhân viên. Đồng thời cũng tạo môi trường thoải mái hơn cho nhân viên, giúp nhân viên tích cực cống hiến cho công ty hơn và tất nhiên cũng vẫn đảm bảo về mặt bảo mật được do nhân viên vẫn phải đến công ty"
   ]
  },
  {
   "cell_type": "markdown",
   "id": "93d08a48",
   "metadata": {},
   "source": [
    "**Tuy nhiên, nếu chỉ dừng lại ở trên là chưa đủ để ra 1 quyết định cụ thể gì. Ta tìm hiểu thêm:**"
   ]
  },
  {
   "cell_type": "markdown",
   "id": "d5b1d030",
   "metadata": {},
   "source": [
    "1. Nâng suất của công ty có thay đổi không ? Có tạo ra các thay đổi tích cực không ?\n",
    "2. Việc nếu quyết định thêm/thay đổi thì sẽ ra sao ? Các nhân viên làm theo phong cách hiện tại họ sẽ nghĩ gì ? "
   ]
  },
  {
   "cell_type": "markdown",
   "id": "f789e50c",
   "metadata": {},
   "source": [
    "### **Kết luận**\n",
    "Và việc xây dựng dashboard này chủ yếu mang ý nghĩa: gợi ý, tham khảo cho các nhà quản lý mà thôi. Nếu được ra quyết định, chúng ta cũng cần tìm hiểu thêm nhiều vấn đề khác nữa như: phong cách, môi trường, văn hóa, ... của từng công ty cũng như là ở địa điểm ta làm việc thì mới có thể quyết định đúng đắn nhất"
   ]
  },
  {
   "cell_type": "markdown",
   "id": "aea90b53",
   "metadata": {},
   "source": [
    "## **Kế hoạch Phân tích cho Dashboard 2: Phân tích chuyên sâu về Lương ngành AI/Data**\n",
    "\n",
    "### **1. Mục tiêu và Đối tượng**\n",
    "\n",
    "#### **1.1. Mục tiêu chính**\n",
    "Cung cấp một bức tranh chi tiết và đa chiều về các yếu tố ảnh hưởng đến mức lương trong ngành Trí tuệ Nhân tạo (AI), giúp các bên liên quan đưa ra quyết định dựa trên dữ liệu.\n",
    "\n",
    "#### **1.2. Đối tượng hưởng lợi**\n",
    "*   **Người lao động (Người tìm việc và Sinh viên):** Hiểu rõ các yếu tố ảnh hưởng đến mức lương để có thể định hướng phát triển kỹ năng, lựa chọn con đường sự nghiệp và đàm phán lương một cách hiệu quả.\n",
    "*   **Bộ phận Nhân sự (HR) và Nhà tuyển dụng:** Có dữ liệu chi tiết để xây dựng thang bảng lương cạnh tranh, đánh giá chính xác mức lương thị trường và đưa ra các chính sách đãi ngộ phù hợp nhằm thu hút và giữ chân nhân tài.\n",
    "\n",
    "### **2. Các Câu hỏi Phân tích Trọng tâm**\n",
    "Dashboard này sẽ được thiết kế để trả lời các câu hỏi sau:\n",
    "1.  Những yếu tố nào có tác động lớn nhất đến mức lương? (Kinh nghiệm, Chức danh, Địa điểm)\n",
    "3.  Mối quan hệ giữa số năm kinh nghiệm và mức lương tăng trưởng như thế nào?\n",
    "4.  Những kỹ năng cụ thể nào giúp tối đa hóa thu nhập?"
   ]
  },
  {
   "cell_type": "markdown",
   "id": "e2217552",
   "metadata": {},
   "source": [
    "#### Trước hết, ta xem tổng quan về lương của tất cả các nghành ra sao"
   ]
  },
  {
   "cell_type": "code",
   "execution_count": null,
   "id": "0a34adad",
   "metadata": {},
   "outputs": [],
   "source": [
    "# Tính toán giá trị trung bình và trung vị\n",
    "mean_salary = new_df['salary_usd'].mean()\n",
    "median_salary = new_df['salary_usd'].median()\n",
    "\n",
    "# Tạo biểu đồ histogram đẹp hơn\n",
    "plt.figure(figsize=(10, 6)) # Điều chỉnh kích thước biểu đồ\n",
    "plt.grid(visible=False)\n",
    "sns.histplot(new_df['salary_usd'], bins=30, kde=True, color='blue', edgecolor='black')\n",
    "\n",
    "# Thêm đường thẳng cho giá trị trung bình và trung vị\n",
    "plt.axvline(mean_salary, color='red', linestyle='dashed', linewidth=2, label=f'Trung bình: {mean_salary:,.2f} USD')\n",
    "plt.axvline(median_salary, color='black', linestyle='dashed', linewidth=2, label=f'Trung vị: {median_salary:,.2f} USD')\n",
    "\n",
    "# Thêm tiêu đề và nhãn\n",
    "plt.title('Phân phối mức lương (USD)', fontsize=16)\n",
    "plt.xlabel('Mức lương (USD)', fontsize=12)\n",
    "plt.ylabel('Tần suất', fontsize=12)\n",
    "plt.legend() # Hiển thị chú giải cho các đường trung bình và trung vị\n",
    "plt.grid(axis='y', alpha=0.75) # Thêm lưới cho trục y\n",
    "plt.tight_layout() # Tự động điều chỉnh bố cục để tránh chồng lấn\n",
    "plt.show()"
   ]
  },
  {
   "cell_type": "markdown",
   "id": "1c7af843",
   "metadata": {},
   "source": [
    "Phần nhận xét tôi đã nhận xét trước đó"
   ]
  },
  {
   "cell_type": "markdown",
   "id": "0085c4ba",
   "metadata": {},
   "source": [
    "#### Ta tìm hiểu xem là yếu tố nào sẽ có tác động đến mức lương"
   ]
  },
  {
   "cell_type": "code",
   "execution_count": null,
   "id": "3a51fe68",
   "metadata": {},
   "outputs": [],
   "source": [
    "\n",
    "box_plot_cols = ['benefits_score','job_title', 'experience_level', 'employment_type', 'company_location', 'company_size', 'employee_residence', 'remote_ratio', 'required_skills', 'education_required', 'industry']\n",
    "compare_col = 'salary_usd' \n",
    "\n",
    "\n",
    "total_plots = len(box_plot_cols)\n",
    "n_cols = 3\n",
    "n_rows = math.ceil(total_plots / n_cols)\n",
    "\n",
    "fig, axes = plt.subplots(n_rows, n_cols, figsize=(20, 6 * n_rows))\n",
    "axes = axes.flatten() \n",
    "\n",
    "plot_idx = 0\n",
    "sns.set_style(\"whitegrid\")\n",
    "\n",
    "\n",
    "for col in box_plot_cols:\n",
    "    ax = axes[plot_idx]\n",
    "    \n",
    "    if col == 'required_skills':\n",
    "        top_10_skills = all_table['required_skills'].value_counts().nlargest(10).index\n",
    "        df_filtered = all_table[all_table['required_skills'].isin(top_10_skills)]\n",
    "        sns.boxplot(x=col, y=compare_col, data=df_filtered, ax=ax, order=top_10_skills)\n",
    "        ax.set_title(f'Salary by Top 10 {col}', fontsize=12)\n",
    "        ax.tick_params(axis='x', rotation=90) \n",
    "    elif new_df[col].nunique() > 15:\n",
    "        top_10_categories = new_df[col].value_counts().nlargest(10).index\n",
    "        df_filtered = new_df[new_df[col].isin(top_10_categories)]\n",
    "        \n",
    "        sns.boxplot(x=col, y=compare_col, data=df_filtered, ax=ax, order=top_10_categories)\n",
    "        ax.set_title(f'Salary by Top 10 {col}')\n",
    "    else:\n",
    "        sns.boxplot(x=col, y=compare_col, data=df, ax=ax)\n",
    "        ax.set_title(f'Salary by {col}', fontsize=12)\n",
    "        ax.tick_params(axis='x', rotation=45)\n",
    "\n",
    "    ax.set_xlabel('')\n",
    "    ax.set_ylabel('Salary (USD)', fontsize=10)\n",
    "    plot_idx += 1\n",
    "\n",
    "\n",
    "\n",
    "for i in range(plot_idx, len(axes)):\n",
    "    axes[i].set_visible(False)\n",
    "\n",
    "fig.suptitle('Phân tích Mối quan hệ với Mức lương (USD)', fontsize=18, fontweight='bold', y=1.02)\n",
    "plt.tight_layout()\n",
    "plt.show()\n"
   ]
  },
  {
   "cell_type": "markdown",
   "id": "8271fe7c",
   "metadata": {},
   "source": [
    "Nhìn vào trên ta thấy được rằng: Yếu tố **có ảnh hưởng (có tính phân biệt)** lớn nhất giữa những khoảng lương nổi bật là biến: **experience_level** và **employee_residence** (trong 1 vài TH như của India/China so với những nơi khác) vì các \"box\" nó tách biệt từng khoảng lương với nhau, ít giao thoa nhau.\n",
    "\n",
    "Dựa vào đây thì:\n",
    "+ **Bộ phận nhân sự - HR**: có thể lên kế hoạch, chọn khoảng lương phù hợp cho từng vị trí kinh nghiệm\n",
    "+ **Người lao động - người tìm việc**: có thể deal lương, xác định khoảng lương phù hợp cho vị trí của mình"
   ]
  },
  {
   "cell_type": "markdown",
   "id": "0be2e464",
   "metadata": {},
   "source": [
    "3. Như ta có phân tích trước đó thì số năm kinh nghiệm có liên quan cấp bậc. Thế nên giờ ta sẽ xem xem là khi số năm kinh nghiệm tăng dần thì lương trung bình sẽ thay đổi ra sao"
   ]
  },
  {
   "cell_type": "code",
   "execution_count": null,
   "id": "8ef8d83d",
   "metadata": {},
   "outputs": [],
   "source": [
    "from matplotlib.ticker import FuncFormatter\n",
    "\n",
    "# 1. Nhóm dữ liệu và tính lương trung bình\n",
    "avg_salary_by_exp = df.groupby('years_experience')['salary_usd'].median().reset_index()\n",
    "\n",
    "# 2. Thiết lập biểu đồ\n",
    "plt.figure(figsize=(15, 8))\n",
    "sns.set_style(\"white\")\n",
    "\n",
    "# 3. Vẽ lineplot\n",
    "line_ax = sns.lineplot(\n",
    "    data=avg_salary_by_exp, \n",
    "    x='years_experience', \n",
    "    y='salary_usd',\n",
    "    marker='o',\n",
    "    markersize=8,\n",
    "    linewidth=2.5,\n",
    "    color='dodgerblue'\n",
    ")\n",
    "\n",
    "# 4. Thêm số liệu ở các điểm cụ thể\n",
    "highlight_years = [2, 5, 10]\n",
    "for year in highlight_years:\n",
    "    salary_value = avg_salary_by_exp[avg_salary_by_exp['years_experience'] == year]['salary_usd']\n",
    "    if not salary_value.empty:\n",
    "        plt.annotate(f'{int(salary_value.iloc[0]):,}', \n",
    "                    xy=(year, salary_value.iloc[0]), \n",
    "                    xytext=(0, 10), \n",
    "                    textcoords='offset points', \n",
    "                    ha='center', \n",
    "                    fontsize=10,\n",
    "                    fontweight='bold')\n",
    "\n",
    "# 5. Tinh chỉnh biểu đồ\n",
    "plt.title('Xu hướng lương trung bình theo số năm kinh nghiệm', fontsize=18, fontweight='bold')\n",
    "plt.xlabel('Số năm kinh nghiệm', fontsize=14)\n",
    "plt.ylabel('')  # Bỏ title trục y\n",
    "\n",
    "# Format trục y\n",
    "line_ax.get_yaxis().set_major_formatter(FuncFormatter(lambda x, p: format(int(x), ',')))\n",
    "\n",
    "plt.xticks(ticks=range(int(avg_salary_by_exp['years_experience'].min()), int(avg_salary_by_exp['years_experience'].max()) + 1))\n",
    "plt.grid(False)\n",
    "sns.despine()\n",
    "plt.tight_layout()\n",
    "plt.show()"
   ]
  },
  {
   "cell_type": "markdown",
   "id": "60d56063",
   "metadata": {},
   "source": [
    "**Nhận xét Xu hướng Lương theo Kinh nghiệm**\n",
    "\n",
    "*   **0-1 năm (Khởi đầu):** Lương ổn định ở mức **~63k USD**, là giai đoạn học hỏi.\n",
    "*   **2-5 năm (Tăng trưởng nhanh):** Lương tăng vọt từ **~91k lên ~128k USD**. Đây là giai đoạn vàng để tích lũy giá trị.\n",
    "*   **5-9 năm (Chững lại):** Lương đi ngang quanh mốc **128k-130k USD**. Việc tăng lương lúc này phụ thuộc vào kỹ năng chuyên môn thay vì thâm niên. Công ty cần tập trung rèn luyện các kỹ năng chuyên sâu hơn cho họ để có bước nhảy vọt sau.\n",
    "*   **Năm thứ 10 (Bước ngoặt):** Cú nhảy vọt đột biến lên **~194k USD**, đánh dấu sự chuyển giao sang vai trò lãnh đạo/quản lý.\n",
    "*   **Sau 10 năm (Cấp cao):** Lương duy trì ở mức rất cao **(trên 180k USD)**, phản ánh vai trò chiến lược trong tổ chức."
   ]
  },
  {
   "cell_type": "code",
   "execution_count": null,
   "id": "5154207e",
   "metadata": {},
   "outputs": [],
   "source": [
    "\n",
    "# (Giữ nguyên phần tạo country_df)\n",
    "country_df = df.groupby('company_location').agg(\n",
    "    salary_usd=('salary_usd', 'mean'),\n",
    "    benefits_score=('benefits_score', 'mean')\n",
    ").reset_index()\n",
    "\n",
    "fig_scatter = px.scatter_geo(\n",
    "    country_df,\n",
    "    locations=\"company_location\",\n",
    "    locationmode=\"country names\",\n",
    "    color=\"salary_usd\",\n",
    "    size=\"benefits_score\",\n",
    "    hover_name=\"company_location\",\n",
    "    projection=\"orthographic\", \n",
    "    title=\"Lương (màu) và Phúc lợi (kích thước) theo Quốc gia\",\n",
    "    color_continuous_scale='Blues'\n",
    ")\n",
    "\n",
    "# --- PHẦN TÂN TRANG ---\n",
    "fig_scatter.update_geos(\n",
    "    bgcolor='#E5ECF6',         # Màu nền cho quả địa cầu\n",
    "    landcolor='white',         # Màu cho đất liền\n",
    "    oceancolor='#E5ECF6',       # Màu cho đại dương\n",
    "    showocean=True,\n",
    "    showland=True,\n",
    "    showcountries=True,        # Hiển thị đường biên giới quốc gia\n",
    "    countrycolor='gray',\n",
    "    coastlinecolor='gray'\n",
    ")\n",
    "\n",
    "fig_scatter.update_layout(\n",
    "    title_x=0.5, # Căn giữa tiêu đề\n",
    "    margin={\"r\":0,\"t\":40,\"l\":0,\"b\":0} # Giảm khoảng trắng xung quanh\n",
    ")\n",
    "\n",
    "fig_scatter.show()"
   ]
  },
  {
   "cell_type": "markdown",
   "id": "0c0e057f",
   "metadata": {},
   "source": [
    "**Dựa vào biểu đồ trên, HR và người lao động có thể**:\n",
    "- Tìm kiếm được những vị trí có thu nhập/phúc lợi cao/thấp tùy nhu cầu\n",
    "- Xem được những châu lục (những cụm địa điểm) đang phát triển mạnh về nghành AI (như ta thấy ở trên thì châu âu là nơi có nhiều vị trí tuyển dụng nhất). Giúp cho HR có thể tìm kiếm được những nhân tài phù hợp với công ty của mình. Đồng thời giúp người lao động có thể tìm kiếm được những nơi phù hợp với nhu cầu của mình"
   ]
  },
  {
   "cell_type": "markdown",
   "id": "fa55b252",
   "metadata": {},
   "source": [
    "#### Phân tích tỷ lệ tuyển dụng trong nước vs quốc tế\n",
    "\n",
    "Để hiểu rõ hơn về xu hướng tuyển dụng, ta cần phân tích xem các công ty có xu hướng tuyển nhân viên trong nước hay quốc tế."
   ]
  },
  {
   "cell_type": "code",
   "execution_count": null,
   "id": "0b795f57",
   "metadata": {},
   "outputs": [],
   "source": [
    "new_df['is_international'] = (new_df['company_location'] != new_df['employee_residence'])\n",
    "counts = new_df['is_international'].value_counts()\n",
    "labels = ['Trong nước', 'Quốc tế'] \n",
    "sizes = [counts[False], counts[True]]  \n",
    "\n",
    "fig, ax = plt.subplots(figsize=(8, 6))\n",
    "colors = ['#8da0cb', '#fc8d62']  \n",
    "\n",
    "wedges, texts, autotexts = ax.pie(\n",
    "    sizes,\n",
    "    labels=labels,\n",
    "    autopct='%1.1f%%',\n",
    "    startangle=90,\n",
    "    colors=colors,\n",
    "    textprops={'fontsize': 13},\n",
    "    wedgeprops={'edgecolor': 'white', 'linewidth': 2}\n",
    ")\n",
    "\n",
    "# Làm đẹp text\n",
    "for autotext in autotexts:\n",
    "    autotext.set_color('white')\n",
    "    autotext.set_fontweight('bold')\n",
    "\n",
    "ax.set_title('Tỷ lệ tuyển dụng: Trong nước vs Quốc tế', \n",
    "             fontsize=16, fontweight='bold', pad=20)\n",
    "ax.axis('equal')\n",
    "\n",
    "# Thêm thông tin chi tiết\n",
    "plt.figtext(0.5, 0.02, f'Tổng: {len(new_df):,} công việc | Trong nước: {counts[False]:,} | Quốc tế: {counts[True]:,}', \n",
    "            ha='center', fontsize=10, style='italic')\n",
    "\n",
    "plt.tight_layout()\n",
    "plt.show()"
   ]
  },
  {
   "cell_type": "markdown",
   "id": "480dc10d",
   "metadata": {},
   "source": [
    "**🎯 Insights chính xác từ dữ liệu:**\n",
    "\n",
    "**71.6% tuyển dụng trong nước vs 28.4% quốc tế** cho thấy:\n",
    "\n",
    "**Đối với HR & Nhà tuyển dụng:**\n",
    "- **Xu hướng địa phương hóa:** Các công ty vẫn ưu tiên tuyển nhân viên trong nước (có thể do ngôn ngữ, văn hóa, legal compliance)\n",
    "- **Cơ hội mở rộng:** 28.4% quốc tế vẫn là tỷ lệ đáng kể → có thể cân nhắc mở rộng tìm kiếm quốc tế\n",
    "- **Benchmark:** So sánh với chính sách tuyển dụng của công ty mình\n",
    "\n",
    "**Đối với Người tìm việc:**\n",
    "- **Thị trường chính:** Tập trung vào thị trường trong nước trước\n",
    "- **Cơ hội quốc tế:** Vẫn có 28.4% cơ hội làm việc quốc tế nếu có kỹ năng phù hợp\n",
    "- **Competitive advantage:** Nếu sẵn sàng làm việc quốc tế, sẽ có ít competition hơn\n",
    "\n",
    "**Lý do có thể:**\n",
    "- Yêu cầu về timezone, ngôn ngữ\n",
    "- Compliance và legal requirements  \n",
    "- Chi phí và complexity của remote work\n",
    "- Cultural fit và communication"
   ]
  },
  {
   "cell_type": "markdown",
   "id": "2fa95db3",
   "metadata": {},
   "source": [
    "#### So sánh lương trung bình: Trong nước vs Nước ngoài\n",
    "Bây giờ hãy xem xem có sự khác biệt về mức lương giữa việc làm trong nước và quốc tế:"
   ]
  },
  {
   "cell_type": "code",
   "execution_count": null,
   "id": "f78ae10a",
   "metadata": {},
   "outputs": [],
   "source": [
    "ax = new_df.groupby('is_international')['salary_usd'].mean().plot(\n",
    "    kind='bar', \n",
    "    figsize=(10, 6), \n",
    "    color=['#8da0cb', '#fc8d62']\n",
    ")\n",
    "\n",
    "# Đặt nhãn cho trục x và làm cho chúng nằm ngang\n",
    "ax.set_xticklabels(['Trong nước', 'Nước ngoài'], rotation=0, fontsize=12)\n",
    "\n",
    "# Thêm tiêu đề\n",
    "ax.set_title('So sánh lương trung bình: Trong nước vs Nước ngoài', \n",
    "             fontsize=16, fontweight='bold', pad=15)\n",
    "\n",
    "# Ẩn trục y\n",
    "ax.set_ylabel('')  # Xóa nhãn trục y\n",
    "ax.yaxis.set_visible(False)  # Ẩn hoàn toàn trục y\n",
    "ax.set_xlabel('')  # Xóa nhãn trục x\n",
    "# Thêm nhãn giá trị trên đầu mỗi cột\n",
    "for p in ax.patches:\n",
    "    value = p.get_height()\n",
    "    ax.annotate(f'{value:,.0f} USD', \n",
    "                (p.get_x() + p.get_width() / 2, value), \n",
    "                ha='center', va='bottom', fontsize=12, fontweight='bold')\n",
    "\n",
    "# Xóa lưới và viền để gọn gàng hơn\n",
    "ax.grid(False)\n",
    "ax.spines['top'].set_visible(False)\n",
    "ax.spines['right'].set_visible(False)\n",
    "ax.spines['left'].set_visible(False)  # Ẩn viền trái vì đã ẩn trục y\n",
    "\n",
    "plt.tight_layout()\n",
    "plt.show()"
   ]
  },
  {
   "cell_type": "code",
   "execution_count": null,
   "id": "5bc42c70",
   "metadata": {},
   "outputs": [],
   "source": [
    "# Phân tích median (ít bị ảnh hưởng bởi outliers)\n",
    "domestic_median = new_df[new_df['is_international'] == False]['salary_usd'].median()\n",
    "international_median = new_df[new_df['is_international'] == True]['salary_usd'].median()\n",
    "\n",
    "print(f\"Median trong nước:     {domestic_median:,.0f} USD\")\n",
    "print(f\"Median quốc tế:        {international_median:,.0f} USD\")\n",
    "print(f\"Chênh lệch median:     {((international_median - domestic_median) / domestic_median * 100):+.1f}%\")\n",
    "\n",
    "# Phân tích standard deviation\n",
    "domestic_std = new_df[new_df['is_international'] == False]['salary_usd'].std()\n",
    "international_std = new_df[new_df['is_international'] == True]['salary_usd'].std()\n",
    "\n",
    "print(f\"\\nĐộ biến động trong nước: {domestic_std:,.0f} USD\")\n",
    "print(f\"Độ biến động quốc tế:    {international_std:,.0f} USD\")\n",
    "\n",
    "# Phân tích range\n",
    "domestic_range = new_df[new_df['is_international'] == False]['salary_usd'].max() - new_df[new_df['is_international'] == False]['salary_usd'].min()\n",
    "international_range = new_df[new_df['is_international'] == True]['salary_usd'].max() - new_df[new_df['is_international'] == True]['salary_usd'].min()\n",
    "\n",
    "print(f\"\\n Range lương trong nước:  {domestic_range:,.0f} USD\")\n",
    "print(f\"Range lương quốc tế:     {international_range:,.0f} USD\")\n",
    "\n",
    "print(\"\\n KẾT LUẬN:\")\n",
    "if international_median > domestic_median:\n",
    "    print(\"Cả mean và median đều confirm: International roles trả lương cao hơn\")\n",
    "else:\n",
    "    print(\"Mean cao hơn nhưng median thấp hơn → có outliers trong international data\")\n",
    "    \n",
    "if international_std > domestic_std:\n",
    "    print(\"International market có độ biến động lương cao hơn → risk/reward cao hơn\")\n",
    "else:\n",
    "    print(\"Domestic market có độ biến động lương cao hơn → cạnh tranh local khốc liệt\")"
   ]
  },
  {
   "cell_type": "markdown",
   "id": "6736f118",
   "metadata": {},
   "source": [
    "***Insight:***\n",
    "\n",
    "**Đối với HR**:\n",
    "- Xác định được đối tượng mục tiêu cần tìm kiếm để phù hợp vấn đề tài chính, năng lực đối với công ty\n",
    "- Nắm rõ thị trường việc làm để lên kế hoạch tuyển dụng\n",
    "- Có thể tập trung vào các thị trường nước ngoài (vì trung bình/trung vị thì không chênh quá nhiều (chỉ khoảng 1000$ năm) mà sẽ giảm đi các chi phí khác như đi lại, bảo hiểm XH, ...) mà có thể tìm kiếm được các ứng viên tiềm năng trên toàn thế giới\n",
    "\n",
    "**Đối với người lao động**:\n",
    "- Họ có thể lên kế hoạch cho phương pháp học tập/làm việc của mình (có thể có 1 vài thị trường ưu tiên mạnh người nước ngoài khi ta sử dụng filter để lọc, chúng ta có thể cân nhắc học ngôn ngữ nơi đó)\n",
    "- Nhận biết được xu hướng thị trường nghành hiện tại để có cơ sở so sánh về sau"
   ]
  },
  {
   "cell_type": "markdown",
   "id": "79a1a04f",
   "metadata": {},
   "source": [
    "#### Tiếp đến, ta quan tâm đến mức lương theo thời gian xem nó có biến động mạnh không"
   ]
  },
  {
   "cell_type": "markdown",
   "id": "77fe6ef7",
   "metadata": {},
   "source": [
    "<div style=\"text-align: justify;\">\n",
    "Trong TH này, do dữ liệu được thu thập khoảng thời gian ngắn và mặt khác các nghành này mới nổi mạnh ở mấy năm gần đây nên ta có thể sẽ không có kết luận gì đáng giá. Tuy vậy, đây vẫn là 1 biểu đồ đáng để ta khai thác nếu như về sau thu thập được nhiều dữ liệu hơn\n",
    "</div>"
   ]
  },
  {
   "cell_type": "code",
   "execution_count": null,
   "id": "26c6d934",
   "metadata": {},
   "outputs": [],
   "source": [
    "def plot_salary_by_period(new_df, period='month'):\n",
    "    \"\"\"\n",
    "    Vẽ biểu đồ lương theo thời gian với khả năng filter theo tháng/quý/năm\n",
    "    \n",
    "    Parameters:\n",
    "    df: DataFrame chứa dữ liệu\n",
    "    period: 'month', 'quarter', 'year'\n",
    "    \"\"\"\n",
    "    \n",
    "    # Tạo period column dựa trên lựa chọn\n",
    "    if period == 'month':\n",
    "        new_df['time_period'] = new_df['posting_date'].dt.to_period('M')\n",
    "        title_suffix = 'theo Tháng'\n",
    "        xlabel = 'Tháng'\n",
    "    elif period == 'quarter':\n",
    "        new_df['time_period'] = new_df['posting_date'].dt.to_period('Q')\n",
    "        title_suffix = 'theo Quý'\n",
    "        xlabel = 'Quý'\n",
    "    elif period == 'year':\n",
    "        new_df['time_period'] = new_df['posting_date'].dt.to_period('Y')\n",
    "        title_suffix = 'theo Năm'\n",
    "        xlabel = 'Năm'\n",
    "    else:\n",
    "        raise ValueError(\"period phải là 'month', 'quarter', hoặc 'year'\")\n",
    "    \n",
    "    # Aggregate dữ liệu\n",
    "    period_avg = new_df.groupby('time_period')['salary_usd'].median().reset_index()\n",
    "    period_avg['time_period'] = period_avg['time_period'].dt.to_timestamp()\n",
    "    \n",
    "    # Vẽ biểu đồ\n",
    "    plt.figure(figsize=(14, 6))\n",
    "    plt.plot(period_avg['time_period'], period_avg['salary_usd'], \n",
    "             linewidth=2, markersize=6)\n",
    "    \n",
    "    plt.title(f'Lương trung bình {title_suffix}', fontsize=14, fontweight='bold')\n",
    "    plt.xlabel(xlabel, fontsize=12)\n",
    "    plt.ylabel('Lương TB (USD)', fontsize=12)\n",
    "    \n",
    "    # Format trục x tùy theo period\n",
    "    if period == 'month':\n",
    "        plt.xticks(rotation=45)\n",
    "    elif period == 'quarter':\n",
    "        plt.xticks(rotation=30)\n",
    "    else:  # year\n",
    "        plt.xticks(rotation=0)\n",
    "    \n",
    "    plt.grid(True, alpha=0.3)\n",
    "    plt.tight_layout()\n",
    "    plt.show()\n",
    "    \n",
    "@interact(period=widgets.Dropdown(\n",
    "    options=[('Tháng', 'month'), ('Quý', 'quarter'), ('Năm', 'year')],\n",
    "    value='month',\n",
    "    description='Thời gian:'\n",
    "))\n",
    "def interactive_salary_plot(period):\n",
    "    return plot_salary_by_period(new_df, period)"
   ]
  },
  {
   "cell_type": "markdown",
   "id": "f479fff4",
   "metadata": {},
   "source": [
    "Phân Tích Xu Hướng Lương Theo Thời Gian (2024 - 2025)\n",
    "\n",
    "Biểu đồ phân tích lương trung vị (median) theo thời gian cho thấy một bức tranh toàn cảnh về sự biến động của thị trường lao động ngành AI/Data. Do phân phối lương bị lệch, việc sử dụng trung vị sẽ cho một cái nhìn chính xác hơn về xu hướng chung, ít bị ảnh hưởng bởi các giá trị ngoại lai.\n",
    "\n",
    "**1. Quan Sát Chính Từ Biểu Đồ**\n",
    "\n",
    "- **Biến Động Cao, Thiếu Xu Hướng Rõ Rệt**: Thị trường không cho thấy một xu hướng tăng hoặc giảm ổn định. Thay vào đó, lương trung vị biến động rất mạnh theo từng tháng và quý, có thể chênh lệch tới gần 10% chỉ trong vài tháng.\n",
    "- **Các Đỉnh và Đáy Đáng Chú Ý**:\n",
    "  - **Đỉnh lương**: Thị trường đạt đỉnh vào khoảng tháng 4/2024, tháng 9/2024 và đầu năm 2025. Đây là những thời điểm các công ty cạnh tranh gay gắt nhất để thu hút nhân tài.\n",
    "  - **Đáy lương**: Các giai đoạn \"hạ nhiệt\" rơi vào khoảng tháng 7/2024 và cuối năm 2024.\n",
    "- **Dấu Hiệu của Tính Chu Kỳ (Cần Thêm Dữ Liệu)**: Có một gợi ý về chu kỳ tăng-giảm diễn ra trong khoảng 3-4 tháng. Tuy nhiên, do khung thời gian dữ liệu còn ngắn, đây mới chỉ là một giả thuyết cần được kiểm chứng thêm trong tương lai. (VD: 2024-03 -> 2024-07, 2024-07 -> 2024-11, 2024-11 -> 2025-03)\n",
    "\n",
    "**2. Insight và Hành Động Đề Xuất**\n",
    "\n",
    "Dựa trên những quan sát trên, cả doanh nghiệp và người lao động đều có thể đưa ra những quyết định chiến lược.\n",
    "\n",
    "**Đối với Doanh nghiệp & Bộ phận Nhân sự (HR):**\n",
    "\n",
    "- **Hoạch Định Tuyển Dụng Chiến Lược**:\n",
    "  - **Tối ưu chi phí**: Có thể lên kế hoạch cho các đợt tuyển dụng lớn vào những giai đoạn thị trường \"hạ nhiệt\" (các tháng có lương trung vị thấp) để tối ưu hóa ngân sách.\n",
    "  - **Cảnh báo ngân sách**: Khi buộc phải tuyển dụng vào các giai đoạn \"nóng\", cần dự trù ngân sách lương cao hơn để đảm bảo tính cạnh tranh.\n",
    "- **Rủi Ro Giữ Chân Nhân Tài**:\n",
    "  - Sự biến động là một báo động đỏ về nguy cơ mất nhân tài vào tay đối thủ. Cần rà soát và điều chỉnh lương định kỳ (theo quý thay vì theo năm) cho các vị trí chủ chốt.\n",
    "  - Tăng cường các chính sách giữ chân phi tài chính (văn hóa, cơ hội phát triển, phúc lợi) để tạo lợi thế cạnh tranh bền vững.\n",
    "\n",
    "**Đối với Người lao động & Người tìm việc:**\n",
    "\n",
    "- **Chọn \"Thời Điểm Vàng\" Để Tìm Việc**:\n",
    "  - Nên lên kế hoạch để các vòng phỏng vấn cuối và đàm phán lương rơi vào các tháng thị trường đang \"nóng\" để có lợi thế và nhận được mức đề nghị tốt hơn.\n",
    "  - Nếu tìm việc trong giai đoạn thị trường đi xuống, hãy kiên nhẫn và không vội vàng chấp nhận một mức lương thấp hơn giá trị bản thân.\n",
    "- **Nâng Cao Năng Lực Đàm Phán**:\n",
    "  - Sử dụng dữ liệu về sự biến động của thị trường làm luận điểm vững chắc khi đàm phán. Việc mức lương có thể tăng 10% chỉ sau vài tháng là một minh chứng cho thấy yêu cầu một mức lương cao hơn là hoàn toàn hợp lý.\n",
    "- **Xây Dựng Chiến Lược Sự Nghiệp Dài Hạn**:\n",
    "  - Không nên chỉ dựa vào \"thời\". Cách tốt nhất để chống lại sự bất ổn của thị trường là liên tục trau dồi các kỹ năng có giá trị cao và xây dựng một mạng lưới quan hệ chuyên nghiệp vững chắc.\n",
    "\n",
    "**3. Hạn Chế và Kết Luận**\n",
    "\n",
    "Cần lưu ý rằng phân tích này dựa trên dữ liệu trong một khoảng thời gian tương đối ngắn (hơn 1 năm). Mặc dù nó phản ánh chính xác động lực của thị trường hiện tại, các kết luận về xu hướng dài hạn hay tính chu kỳ cần được theo dõi và xác nhận với nhiều dữ liệu hơn trong tương lai.\n",
    "\n",
    "Tuy vậy, biểu đồ đã cung cấp những insight giá trị, cho thấy một thị trường đầy cơ hội nhưng cũng nhiều thách thức, đòi hỏi cả doanh nghiệp và người lao động phải có chiến lược linh hoạt và luôn cập nhật thông tin để đưa ra quyết định tối ưu.\n"
   ]
  },
  {
   "cell_type": "markdown",
   "id": "055be27e",
   "metadata": {},
   "source": [
    "#### Vẽ biểu đồ cột ngang cho lương tương ứng với từng nghành nghề. Được filter theo: remote_ratio, employment_type, industry, experience_level"
   ]
  },
  {
   "cell_type": "code",
   "execution_count": null,
   "id": "6565c659",
   "metadata": {},
   "outputs": [],
   "source": [
    "def job_by_median_salary(df,employment_type,remote_ratio,experience_level,industry):\n",
    "    \n",
    "    # Lọc dữ liệu theo các điều kiện\n",
    "    if employment_type != 'Tất cả':\n",
    "        df = df[df['employment_type'] == employment_type]\n",
    "    if remote_ratio != 'Tất cả':\n",
    "        df = df[df['remote_ratio'] == remote_ratio]\n",
    "    if experience_level != 'Tất cả':\n",
    "        df = df[df['experience_level'] == experience_level]\n",
    "    if industry != 'Tất cả':\n",
    "        df = df[df['industry'] == industry]\n",
    "    \n",
    "    df_job_salary = df.groupby(\"job_title\").agg(\n",
    "        med_salary_by_job = ('salary_usd', 'median')\n",
    "    )\n",
    "\n",
    "    plt.figure(figsize=(10, 7))\n",
    "    sns.barplot(\n",
    "        y=\"job_title\",\n",
    "        x=\"med_salary_by_job\",\n",
    "        data=df_job_salary.sort_values(by=\"med_salary_by_job\", ascending=False)\n",
    "    )\n",
    "    \n",
    "    plt.xlabel(\"\")\n",
    "    plt.ylabel(\"\")\n",
    "    plt.title(\"Công việc và mức lương trung vị (USD)\", fontsize=16, fontweight='bold')\n",
    "    plt.tight_layout()\n",
    "    plt.show()\n",
    "    \n",
    "# Tạo các widget để lọc\n",
    "employment_type_options = ['Tất cả'] + sorted(new_df['employment_type'].unique().tolist())\n",
    "remote_ratio_options = ['Tất cả'] + sorted(new_df['remote_ratio'].unique().tolist())\n",
    "experience_level_options = ['Tất cả'] + sorted(new_df['experience_level'].unique().tolist())\n",
    "industry_options = ['Tất cả'] + sorted(new_df['industry'].unique().tolist())\n",
    "\n",
    "# Sử dụng interact để tạo giao diện tương tác\n",
    "@interact(\n",
    "    employment_type=widgets.Dropdown(options=employment_type_options, value='Tất cả', description='Loại hình CV:'),\n",
    "    remote_ratio=widgets.Dropdown(options=remote_ratio_options, value='Tất cả', description='Remote Ratio:'),\n",
    "    experience_level=widgets.Dropdown(options=experience_level_options, value='Tất cả', description='Cấp bậc:'),\n",
    "    industry=widgets.Dropdown(options=industry_options, value='Tất cả', description='Ngành:')\n",
    ")\n",
    "def interactive_job_salary_plot(employment_type, remote_ratio, experience_level, industry):\n",
    "    # Gọi hàm vẽ biểu đồ với new_df và các giá trị từ widget\n",
    "    job_by_median_salary(new_df, employment_type, remote_ratio, experience_level, industry)\n"
   ]
  },
  {
   "cell_type": "markdown",
   "id": "1a826a4a",
   "metadata": {},
   "source": [
    "**Ý nghĩa của biểu đồ “Công việc và mức lương trung vị (USD)**\n",
    "\n",
    "**1. Đối với Nhân sự & Nhà tuyển dụng (HR)**\n",
    "\n",
    "- **Xây dựng khung lương cạnh tranh**  \n",
    "  Biểu đồ cho thấy mức lương trung vị của từng chức danh, giúp HR xác định band lương hợp lý để thu hút nhân tài.\n",
    "\n",
    "- **Định vị thương hiệu tuyển dụng**  \n",
    "  So sánh mức lương nội bộ với trung vị thị trường, từ đó điều chỉnh chính sách phúc lợi để tăng sức hấp dẫn.\n",
    "\n",
    "- **Hoạch định ngân sách nhân sự**  \n",
    "  Nắm rõ chi phí lương của các vị trí trọng điểm, hỗ trợ dự báo ngân sách và lập kế hoạch tài chính.\n",
    "\n",
    "- **Ưu tiên nguồn lực tuyển dụng**  \n",
    "  Xác định chức danh nào đang có chi phí cao, từ đó đưa ra chiến lược tuyển dụng (nội bộ vs headhunt) phù hợp.\n",
    "\n",
    "**2. Đối với Người lao động & Ứng viên**\n",
    "\n",
    "- **Tham khảo mức lương thị trường**  \n",
    "  Hiểu rõ mức lương trung vị của vị trí mong muốn, giúp đặt kỳ vọng và thương lượng lương tối ưu.\n",
    "\n",
    "- **Định hướng phát triển nghề nghiệp**  \n",
    "  So sánh mức lương giữa các vai trò (Data Engineer, AI Architect, v.v.), từ đó chọn hướng học tập nâng kỹ năng.\n",
    "\n",
    "- **Đánh giá tiềm năng chuyển ngành**  \n",
    "  Xem mức lương của các vị trí lân cận (NLP Engineer, Robotics Engineer…) để cân nhắc chuyển hướng sự nghiệp.\n",
    "\n",
    "- **Chuẩn bị kế hoạch học tập**  \n",
    "  Biết được vị trí có thu nhập cao → tập trung vào các kỹ năng tương ứng để gia tăng giá trị bản thân."
   ]
  },
  {
   "cell_type": "markdown",
   "id": "ca655128",
   "metadata": {},
   "source": [
    "## **Kế hoạch Phân tích cho Dashboard 3: Phân Tích Vòng Đời Tuyển Dụng & Học Vấn (Recruitment Lifecycle & Education Analysis)**"
   ]
  },
  {
   "cell_type": "markdown",
   "id": "9c0b53fe",
   "metadata": {},
   "source": [
    "*   **Mục tiêu:** Cung cấp insight cho bộ phận nhân sự về hiệu quả quy trình tuyển dụng và cho người lao động/sinh viên về giá trị của học vấn.\n",
    "*   **Các thành phần chính:**\n",
    "    *   **Phân tích thời gian tuyển dụng (Time-to-Fill):**\n",
    "        *   Tính toán khoảng thời gian từ `posting_date` đến `application_deadline`.\n",
    "        *   Trực quan hóa thời gian tuyển dụng trung bình theo ngành (`industry`) và quy mô công ty (`company_size`) để HR xác định các \"điểm nghẽn\" trong quy trình.\n",
    "    *   **Phân tích xu hướng tuyển dụng theo mùa:**\n",
    "        *   Biểu đồ thể hiện số lượng công việc được đăng tuyển theo từng tháng/quý, giúp doanh nghiệp lên kế hoạch nhân sự và người tìm việc chọn \"thời điểm vàng\" để ứng tuyển.\n",
    "    *   **Phân tích ROI của Bằng Cấp (Education ROI):**\n",
    "        *   So sánh mức lương trung vị (`salary_usd`) giữa các cấp độ học vấn (`education_required`: Bachelor, Master, PhD) cho cùng một cấp bậc kinh nghiệm (`experience_level`), lương, chức danh, ..."
   ]
  },
  {
   "cell_type": "markdown",
   "id": "8326ff0f",
   "metadata": {},
   "source": [
    "#### Phân tích thời gian tuyển dụng"
   ]
  },
  {
   "cell_type": "code",
   "execution_count": null,
   "id": "3f2031ee",
   "metadata": {},
   "outputs": [],
   "source": [
    "# Tính toán thời gian tuyển dụng (Time-to-Fill)\n",
    "time_diff = df[\"application_deadline\"] - df[\"posting_date\"] \n",
    "df['recruitment_days'] = time_diff.dt.days\n",
    "\n",
    "\n",
    "# Tạo figure với subplots\n",
    "fig, axes = plt.subplots(1, 2, figsize=(16,6))\n",
    "fig.suptitle('Phân Tích Thời Gian Tuyển Dụng (Time-to-Fill Analysis)', \n",
    "             fontsize=16, fontweight='bold', y=0.98)\n",
    "\n",
    "# 1. Histogram - Phân phối thời gian tuyển dụng\n",
    "axes[0].hist(df['recruitment_days'], bins=30, alpha=0.7, color='skyblue', edgecolor='navy')\n",
    "axes[0].axvline(df['recruitment_days'].mean(), color='red', linestyle='--', \n",
    "                   label=f'Trung bình: {df[\"recruitment_days\"].mean():.1f} ngày')\n",
    "axes[0].axvline(df['recruitment_days'].median(), color='orange', linestyle='--',\n",
    "                   label=f'Trung vị: {df[\"recruitment_days\"].median():.1f} ngày')\n",
    "axes[0].set_title('Phân Phối Thời Gian Tuyển Dụng', fontweight='bold')\n",
    "axes[0].set_xlabel('Số ngày')\n",
    "axes[0].set_ylabel('Tần suất')\n",
    "axes[0].legend()\n",
    "axes[0].grid(True, alpha=0.3)\n",
    "\n",
    "# 2. Heatmap thời gian tuyển dụng theo ngành và quy mô\n",
    "pivot_data = df.groupby(['industry', 'company_size'])['recruitment_days'].mean().reset_index()\n",
    "pivot_table = pivot_data.pivot(index='industry', columns='company_size', values='recruitment_days')\n",
    "\n",
    "sns.heatmap(pivot_table, annot=True, fmt='.1f', cmap='Blues', ax=axes[1])\n",
    "axes[1].set_title('Thời Gian Tuyển Dụng Trung Bình\\n(Ngành x Quy Mô)', fontweight='bold')\n",
    "axes[1].set_xlabel('Quy mô công ty')\n",
    "axes[1].set_ylabel('Ngành nghề')\n",
    "\n",
    "plt.tight_layout()\n",
    "plt.show()"
   ]
  },
  {
   "cell_type": "markdown",
   "id": "e08144d4",
   "metadata": {},
   "source": [
    "**Ý nghĩa của biểu đồ**\n",
    "\n",
    "**1. Đối với HR & Nhà tuyển dụng**\n",
    "- **Chuẩn hóa KPI tuyển dụng**  \n",
    "  - Trung bình ~43 ngày cho một vị trí → mốc tham chiếu để đặt mục tiêu rút ngắn quy trình.\n",
    "\n",
    "- **Xác định “nút thắt” theo ngành và quy mô**  \n",
    "  - Heatmap cho thấy ngành Media (công ty S) mất tới 46 ngày, Consulting (công ty M) chỉ ~41,5 ngày.  \n",
    "  - HR biết ngành/quy mô nào đang “khát” nhân lực hơn, từ đó tăng ngân sách quảng cáo, headhunt hoặc tối ưu JD.\n",
    "\n",
    "- **Quản trị kỳ vọng Hiring Manager**  \n",
    "  - Dễ dự báo timeline tuyển dụng; phòng ban cần nhân sự gấp có thể được cảnh báo sớm.\n",
    "\n",
    "- **Tối ưu chiến lược đãi ngộ**  \n",
    "  - Ngành/quy mô có time-to-fill dài ⇒ thiếu ứng viên ⇒ cân nhắc tăng lương, phúc lợi để rút ngắn thời gian tuyển.\n",
    "\n",
    "**2. Đối với Người lao động & Ứng viên**\n",
    "- **Quản lý kỳ vọng chờ đợi**  \n",
    "  - Biết từ lúc đăng tin tới hạn chót thường kéo dài ~43 ngày → bớt lo lắng khi chưa nhận phản hồi ngay.\n",
    "\n",
    "- **Lập kế hoạch tìm việc chủ động**  \n",
    "  - Nếu chọn ngành/company size có time-to-fill ngắn (ví dụ Consulting-M), chuẩn bị hồ sơ sớm và phản hồi nhanh sẽ tăng cơ hội.\n",
    "\n",
    "- **Đánh giá nhu cầu thị trường**  \n",
    "  - Ngành/quy mô mất nhiều ngày để lấp vị trí (Media-S) phản ánh nguồn cung ứng viên khan hiếm; kỹ năng phù hợp có giá trị cao hơn.\n",
    "\n",
    "- **Tối ưu lịch trình học tập/nâng cấp kỹ năng**  \n",
    "  - Khoảng 1,5 tháng “buffer” giúp ứng viên tranh thủ hoàn thiện khóa học ngắn hoặc chứng chỉ bổ sung trước khi vòng phỏng vấn cuối."
   ]
  },
  {
   "cell_type": "markdown",
   "id": "7f69fbe2",
   "metadata": {},
   "source": [
    "#### Phân tích xu hướng tuyển dụng theo mùa lọc theo từng nghề/nghành"
   ]
  },
  {
   "cell_type": "code",
   "execution_count": null,
   "id": "80d41bdf",
   "metadata": {},
   "outputs": [],
   "source": [
    "def plot_time_value_count(df, job_title='Tất cả', industry='Tất cả', date_type='Ngày'):\n",
    "    d = df.copy()\n",
    "    \n",
    "    # Lọc theo Job title và Industry nếu cần\n",
    "    if job_title != 'Tất cả':\n",
    "        d = d[d['job_title'] == job_title]\n",
    "    if industry != 'Tất cả':\n",
    "        d = d[d['industry'] == industry]\n",
    "    \n",
    "    # Gán period theo lựa chọn\n",
    "    if date_type == 'Tháng':\n",
    "        d['time_period'] = d['posting_date'].dt.to_period('M')\n",
    "    elif date_type == 'Quý':\n",
    "        d['time_period'] = d['posting_date'].dt.to_period('Q')\n",
    "    elif date_type == 'Năm':\n",
    "        d['time_period'] = d['posting_date'].dt.to_period('Y')\n",
    "    \n",
    "    # Đếm số dòng mỗi period\n",
    "    time_value_count = (\n",
    "        d.groupby('time_period')\n",
    "         .size()\n",
    "         .reset_index(name='count')\n",
    "         .sort_values('time_period')  \n",
    "    )\n",
    "\n",
    "    # Vẽ biểu đồ\n",
    "    plt.figure(figsize=(12, 6))\n",
    "    sns.barplot(\n",
    "        x=time_value_count['time_period'].astype(str),\n",
    "        y=time_value_count['count'],\n",
    "        color='steelblue'\n",
    "    )\n",
    "    plt.title('Số lượng tuyển dụng theo thời gian', fontweight='bold')\n",
    "    plt.xlabel('Thời gian')\n",
    "    plt.ylabel('Số lượng tuyển dụng')\n",
    "    plt.xticks(rotation=45)\n",
    "    plt.tight_layout()\n",
    "    plt.show()\n",
    "\n",
    "# Widget tương tác (đặt tên khác để tránh đè)\n",
    "@interact(\n",
    "    job_title = widgets.Dropdown(\n",
    "        options=['Tất cả'] + sorted(df['job_title'].unique()),\n",
    "        value='Tất cả',\n",
    "        description='Job Title'\n",
    "    ),\n",
    "    industry = widgets.Dropdown(\n",
    "        options=['Tất cả'] + sorted(df['industry'].unique()),\n",
    "        value='Tất cả',\n",
    "        description='Industry'\n",
    "    ),\n",
    "    date_type = widgets.Dropdown(\n",
    "        options=['Tháng', 'Quý', 'Năm'],\n",
    "        value='Tháng',\n",
    "        description='Date Type'\n",
    "    )\n",
    ")\n",
    "def _interactive(job_title, industry, date_type):\n",
    "    plot_time_value_count(df, job_title, industry, date_type)"
   ]
  },
  {
   "cell_type": "markdown",
   "id": "efdcbf24",
   "metadata": {},
   "source": [
    "**Lợi ích của biểu đồ “Số lượng tuyển dụng theo thời gian\"**\n",
    "\n",
    "**1. Đối với HR & Nhà tuyển dụng**\n",
    "- **Phát hiện mùa vụ tuyển dụng**  \n",
    "  Quan sát thời điểm số bài đăng tăng cao để chuẩn bị ngân sách, đội ngũ tuyển dụng và chiến dịch truyền thông sớm hơn.\n",
    "- **Đánh giá hiệu quả chiến dịch**  \n",
    "  Sau mỗi đợt tuyển dụng diện rộng, so sánh số bài đăng trước và sau chiến dịch để đo mức độ cần thiết của việc tái sử dụng hoặc điều chỉnh kênh tuyển dụng.\n",
    "- **Xác định nhu cầu theo chức danh/ngành**  \n",
    "  Với bộ lọc `Job Title` và `Industry`, HR nhanh chóng thấy vai trò hay ngành nào đang khan ứng viên để ưu tiên nguồn lực headhunt.\n",
    "- **Dự báo khối lượng công việc phòng Talent Acquisition**  \n",
    "  Biết được tháng/quý nào cao điểm để phân bổ nhân sự, KPI và timeline phỏng vấn phù hợp.\n",
    "\n",
    "**2. Đối với Người lao động & Ứng viên**\n",
    "- **Tìm “thời điểm vàng” ứng tuyển**  \n",
    "  Nhờ xu hướng tăng bài đăng, ứng viên biết lúc nào cơ hội cao nhất để nộp hồ sơ.\n",
    "- **Chọn ngành/role đang “hot”**  \n",
    "  Lọc theo `Job Title` hoặc `Industry` giúp thấy vị trí nào tăng nhanh → định vị bản thân, đầu tư học kỹ năng tương ứng.\n",
    "- **Lập kế hoạch phát triển nghề nghiệp**  \n",
    "  Quan sát chu kỳ tăng giảm (mùa tuyển intern, graduate program…) để chuẩn bị portfolio, chứng chỉ đúng thời điểm.\n",
    "- **Đối chiếu mức độ cạnh tranh**  \n",
    "  Khi số lượng bài đăng giảm nhưng mức lương vẫn cao (qua biểu đồ khác), ứng viên hiểu thị trường đang khan hiếm → có cơ sở đàm phán lương tốt hơn."
   ]
  },
  {
   "cell_type": "markdown",
   "id": "9c6adba2",
   "metadata": {},
   "source": [
    "#### Phân tích ROI của Bằng Cấp (Education ROI):"
   ]
  },
  {
   "cell_type": "markdown",
   "id": "29ee56c4",
   "metadata": {},
   "source": [
    "1. So sánh mức lương trung vị giữa các cấp độ học vấn cho filter theo cấp bậc kinh nghiệm, công việc, nghành"
   ]
  },
  {
   "cell_type": "code",
   "execution_count": null,
   "id": "4d572494",
   "metadata": {},
   "outputs": [],
   "source": [
    "def salary_by_edu_require(df, experience_level, industry, job_titles):\n",
    "    d = df.copy()\n",
    "    if experience_level != 'Tất cả':\n",
    "        d = d[d['experience_level'] == experience_level]\n",
    "    if job_titles != 'Tất cả':\n",
    "        d = d[d['job_title'] == job_titles]\n",
    "    if industry != 'Tất cả':\n",
    "        d = d[d['industry'] == industry]\n",
    "\n",
    "    plt.figure(figsize=(10, 6))\n",
    "    \n",
    "    sns.boxplot(\n",
    "        x='education_required',\n",
    "        y='salary_usd',\n",
    "        data=d,\n",
    "        color='skyblue'\n",
    "    )\n",
    "    \n",
    "    plt.title(f'Phân phối lương theo yêu cầu học vấn\\nCấp bậc: {experience_level} | Ngành: {industry}', fontsize=16, fontweight='bold')\n",
    "    plt.xlabel('Yêu cầu học vấn')\n",
    "    plt.ylabel('Lương (USD)')\n",
    "    plt.tight_layout()\n",
    "    plt.show()\n",
    "\n",
    "@interact(\n",
    "    experience_level=widgets.Dropdown(\n",
    "        options=['Tất cả'] + sorted(df['experience_level'].unique()),\n",
    "        value='Tất cả',\n",
    "        description='Cấp bậc'\n",
    "    ),\n",
    "    industry=widgets.Dropdown(\n",
    "        options=['Tất cả'] + sorted(df['industry'].unique()),\n",
    "        value='Tất cả',\n",
    "        description='Ngành'\n",
    "    ),\n",
    "    job_titles=widgets.Dropdown(\n",
    "        options=['Tất cả'] + sorted(df['job_title'].unique()),\n",
    "        value='Tất cả',\n",
    "        description='Loại CV'\n",
    "    )\n",
    ")\n",
    "def interactive_salary_by_edu_require(experience_level, industry, job_titles):\n",
    "    salary_by_edu_require(df, experience_level, industry, job_titles)"
   ]
  },
  {
   "cell_type": "markdown",
   "id": "bfda4d8e",
   "metadata": {},
   "source": [
    "\n",
    "**Lợi ích của biểu đồ**\n",
    "\n",
    "**1. Đối với HR & Nhà tuyển dụng**\n",
    "- **Xây dựng khung lương chính xác:** Biểu đồ giúp HR xác định khoảng lương (range) và mức lương trung vị (median) tương ứng với từng cấp độ học vấn. Điều này giúp tạo ra thang bảng lương cạnh tranh và công bằng, tránh trả lương quá cao hoặc quá thấp so với thị trường.\n",
    "- **Tối ưu hóa yêu cầu tuyển dụng:** HR có thể đánh giá liệu việc yêu cầu bằng cấp cao hơn (ví dụ: PhD so với Master) có thực sự mang lại chênh lệch lớn về năng suất và mức lương hay không. Nếu không, họ có thể nới lỏng yêu cầu để mở rộng nguồn ứng viên tiềm năng.\n",
    "- **Hoạch định ngân sách đào tạo:** Khi xem xét hỗ trợ nhân viên học cao hơn, HR có thể sử dụng biểu đồ này để dự báo về \"Return on Investment (ROI)\", tức là mức tăng lương kỳ vọng sau khi nhân viên hoàn thành khóa học, từ đó ra quyết định đầu tư hiệu quả.\n",
    "\n",
    "**2. Đối với Người lao động & Ứng viên**\n",
    "- **Định hướng phát triển và học tập:** Sinh viên hoặc người đi làm có thể thấy rõ việc đầu tư vào học vấn cao hơn (như Thạc sĩ, Tiến sĩ) ảnh hưởng đến mức lương như thế nào. Đây là cơ sở dữ liệu quan trọng để họ quyết định có nên học lên hay không.\n",
    "- **Công cụ đàm phán lương hiệu quả:** Ứng viên có thể sử dụng dữ liệu này để biết mức lương phổ biến trên thị trường cho trình độ học vấn của mình, từ đó đưa ra một mức lương đề nghị hợp lý và có cơ sở vững chắc khi thương lượng.\n",
    "- **Đặt kỳ vọng thực tế:** Biểu đồ giúp người tìm việc hiểu rõ giá trị của bằng cấp trong các ngành và cấp bậc kinh nghiệm khác nhau, tránh đặt kỳ vọng quá cao hoặc quá thấp khi ứng tuyển.\n"
   ]
  }
 ],
 "metadata": {
  "kernelspec": {
   "display_name": "Python 3",
   "language": "python",
   "name": "python3"
  },
  "language_info": {
   "codemirror_mode": {
    "name": "ipython",
    "version": 3
   },
   "file_extension": ".py",
   "mimetype": "text/x-python",
   "name": "python",
   "nbconvert_exporter": "python",
   "pygments_lexer": "ipython3",
   "version": "3.12.2"
  }
 },
 "nbformat": 4,
 "nbformat_minor": 5
}
